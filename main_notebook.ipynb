{
 "cells": [
  {
   "cell_type": "markdown",
   "metadata": {},
   "source": [
    "following :\n",
    "\n",
    " https://langchain-ai.github.io/langgraph/tutorials/introduction/#setup"
   ]
  },
  {
   "cell_type": "code",
   "execution_count": 20,
   "metadata": {},
   "outputs": [
    {
     "name": "stdout",
     "output_type": "stream",
     "text": [
      "Requirement already satisfied: langgraph in .\\.venv\\lib\\site-packages (0.3.20)\n",
      "Requirement already satisfied: langsmith in .\\.venv\\lib\\site-packages (0.3.18)\n",
      "Requirement already satisfied: langchain_anthropic in .\\.venv\\lib\\site-packages (0.3.10)\n",
      "Requirement already satisfied: xxhash<4.0.0,>=3.5.0 in .\\.venv\\lib\\site-packages (from langgraph) (3.5.0)\n",
      "Requirement already satisfied: langgraph-prebuilt<0.2,>=0.1.1 in .\\.venv\\lib\\site-packages (from langgraph) (0.1.4)\n",
      "Requirement already satisfied: langgraph-sdk<0.2.0,>=0.1.42 in .\\.venv\\lib\\site-packages (from langgraph) (0.1.58)\n",
      "Requirement already satisfied: langchain-core<0.4,>=0.1 in .\\.venv\\lib\\site-packages (from langgraph) (0.3.48)\n",
      "Requirement already satisfied: langgraph-checkpoint<3.0.0,>=2.0.10 in .\\.venv\\lib\\site-packages (from langgraph) (2.0.23)\n",
      "Requirement already satisfied: zstandard<0.24.0,>=0.23.0 in .\\.venv\\lib\\site-packages (from langsmith) (0.23.0)\n",
      "Requirement already satisfied: requests<3,>=2 in .\\.venv\\lib\\site-packages (from langsmith) (2.32.3)\n",
      "Requirement already satisfied: requests-toolbelt<2.0.0,>=1.0.0 in .\\.venv\\lib\\site-packages (from langsmith) (1.0.0)\n",
      "Requirement already satisfied: packaging>=23.2 in .\\.venv\\lib\\site-packages (from langsmith) (24.2)\n",
      "Requirement already satisfied: pydantic<3,>=1 in .\\.venv\\lib\\site-packages (from langsmith) (2.10.6)\n",
      "Requirement already satisfied: httpx<1,>=0.23.0 in .\\.venv\\lib\\site-packages (from langsmith) (0.28.1)\n",
      "Requirement already satisfied: orjson<4.0.0,>=3.9.14 in .\\.venv\\lib\\site-packages (from langsmith) (3.10.16)\n",
      "Requirement already satisfied: anthropic<1,>=0.49.0 in .\\.venv\\lib\\site-packages (from langchain_anthropic) (0.49.0)\n",
      "Requirement already satisfied: jiter<1,>=0.4.0 in .\\.venv\\lib\\site-packages (from anthropic<1,>=0.49.0->langchain_anthropic) (0.9.0)\n",
      "Requirement already satisfied: anyio<5,>=3.5.0 in .\\.venv\\lib\\site-packages (from anthropic<1,>=0.49.0->langchain_anthropic) (4.9.0)\n",
      "Requirement already satisfied: sniffio in .\\.venv\\lib\\site-packages (from anthropic<1,>=0.49.0->langchain_anthropic) (1.3.1)\n",
      "Requirement already satisfied: typing-extensions<5,>=4.10 in .\\.venv\\lib\\site-packages (from anthropic<1,>=0.49.0->langchain_anthropic) (4.12.2)\n",
      "Requirement already satisfied: distro<2,>=1.7.0 in .\\.venv\\lib\\site-packages (from anthropic<1,>=0.49.0->langchain_anthropic) (1.9.0)\n",
      "Requirement already satisfied: idna in .\\.venv\\lib\\site-packages (from httpx<1,>=0.23.0->langsmith) (3.10)\n",
      "Requirement already satisfied: certifi in .\\.venv\\lib\\site-packages (from httpx<1,>=0.23.0->langsmith) (2025.1.31)\n",
      "Requirement already satisfied: httpcore==1.* in .\\.venv\\lib\\site-packages (from httpx<1,>=0.23.0->langsmith) (1.0.7)\n",
      "Requirement already satisfied: h11<0.15,>=0.13 in .\\.venv\\lib\\site-packages (from httpcore==1.*->httpx<1,>=0.23.0->langsmith) (0.14.0)\n",
      "Requirement already satisfied: PyYAML>=5.3 in .\\.venv\\lib\\site-packages (from langchain-core<0.4,>=0.1->langgraph) (6.0.2)\n",
      "Requirement already satisfied: jsonpatch<2.0,>=1.33 in .\\.venv\\lib\\site-packages (from langchain-core<0.4,>=0.1->langgraph) (1.33)\n",
      "Requirement already satisfied: tenacity!=8.4.0,<10.0.0,>=8.1.0 in .\\.venv\\lib\\site-packages (from langchain-core<0.4,>=0.1->langgraph) (9.0.0)\n",
      "Requirement already satisfied: ormsgpack<2.0.0,>=1.8.0 in .\\.venv\\lib\\site-packages (from langgraph-checkpoint<3.0.0,>=2.0.10->langgraph) (1.9.0)\n",
      "Requirement already satisfied: pydantic-core==2.27.2 in .\\.venv\\lib\\site-packages (from pydantic<3,>=1->langsmith) (2.27.2)\n",
      "Requirement already satisfied: annotated-types>=0.6.0 in .\\.venv\\lib\\site-packages (from pydantic<3,>=1->langsmith) (0.7.0)\n",
      "Requirement already satisfied: charset-normalizer<4,>=2 in .\\.venv\\lib\\site-packages (from requests<3,>=2->langsmith) (3.4.1)\n",
      "Requirement already satisfied: urllib3<3,>=1.21.1 in .\\.venv\\lib\\site-packages (from requests<3,>=2->langsmith) (2.3.0)\n",
      "Requirement already satisfied: exceptiongroup>=1.0.2 in .\\.venv\\lib\\site-packages (from anyio<5,>=3.5.0->anthropic<1,>=0.49.0->langchain_anthropic) (1.2.2)\n",
      "Requirement already satisfied: jsonpointer>=1.9 in .\\.venv\\lib\\site-packages (from jsonpatch<2.0,>=1.33->langchain-core<0.4,>=0.1->langgraph) (3.0.0)\n",
      "Note: you may need to restart the kernel to use updated packages.\n"
     ]
    },
    {
     "name": "stderr",
     "output_type": "stream",
     "text": [
      "\n",
      "[notice] A new release of pip is available: 23.0.1 -> 25.0.1\n",
      "[notice] To update, run: python.exe -m pip install --upgrade pip\n"
     ]
    }
   ],
   "source": [
    "%pip install -U langgraph langsmith langchain_anthropic"
   ]
  },
  {
   "cell_type": "code",
   "execution_count": null,
   "metadata": {},
   "outputs": [
    {
     "name": "stdout",
     "output_type": "stream",
     "text": [
      "Requirement already satisfied: python-dotenv in .\\.venv\\lib\\site-packages (1.0.1)\n",
      "Note: you may need to restart the kernel to use updated packages.\n"
     ]
    },
    {
     "name": "stderr",
     "output_type": "stream",
     "text": [
      "\n",
      "[notice] A new release of pip is available: 23.0.1 -> 25.0.1\n",
      "[notice] To update, run: python.exe -m pip install --upgrade pip\n"
     ]
    }
   ],
   "source": [
    "%pip install python-dotenv langchain_groq\n"
   ]
  },
  {
   "cell_type": "code",
   "execution_count": 23,
   "metadata": {},
   "outputs": [],
   "source": [
    "import getpass\n",
    "import os\n",
    "from dotenv import find_dotenv, load_dotenv\n",
    "\n",
    "dotenv_path = find_dotenv()\n",
    "load_dotenv(dotenv_path)\n",
    "groq_api_key = os.getenv(\"groq_api_key\")\n",
    "os.environ[\"groq_api_key\"] = groq_api_key \n",
    "\n",
    "def _set_env(var: str):\n",
    "    if not os.environ.get(var):\n",
    "        os.environ[var] = getpass.getpass(f\"{var}: \")\n",
    "\n",
    "\n",
    "_set_env(\"groq_api_key\")"
   ]
  },
  {
   "cell_type": "code",
   "execution_count": 24,
   "metadata": {},
   "outputs": [
    {
     "data": {
      "text/plain": [
       "'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'"
      ]
     },
     "execution_count": 24,
     "metadata": {},
     "output_type": "execute_result"
    }
   ],
   "source": [
    "os.environ.get(\"groq_api_key\")"
   ]
  },
  {
   "cell_type": "markdown",
   "metadata": {},
   "source": []
  },
  {
   "cell_type": "code",
   "execution_count": 25,
   "metadata": {},
   "outputs": [],
   "source": [
    "from typing import Annotated\n",
    "\n",
    "from typing_extensions import TypedDict\n",
    "\n",
    "from langgraph.graph import StateGraph, START, END\n",
    "from langgraph.graph.message import add_messages\n",
    "\n",
    "\n",
    "class State(TypedDict):\n",
    "    # Messages have the type \"list\". The `add_messages` function\n",
    "    # in the annotation defines how this state key should be updated\n",
    "    # (in this case, it appends messages to the list, rather than overwriting them)\n",
    "    messages: Annotated[list, add_messages]\n",
    "\n",
    "\n",
    "graph_builder = StateGraph(State)"
   ]
  },
  {
   "cell_type": "code",
   "execution_count": 26,
   "metadata": {},
   "outputs": [
    {
     "data": {
      "text/plain": [
       "<langgraph.graph.state.StateGraph at 0x2cea1838cd0>"
      ]
     },
     "execution_count": 26,
     "metadata": {},
     "output_type": "execute_result"
    }
   ],
   "source": [
    "from langchain_anthropic import ChatAnthropic\n",
    "from langchain_groq import ChatGroq\n",
    "#llm = ChatAnthropic(model=\"claude-3-5-sonnet-20240620\")\n",
    "llm=ChatGroq(groq_api_key=groq_api_key,model_name=\"Gemma2-9b-It\")\n",
    "\n",
    "def chatbot(state: State):\n",
    "    return {\"messages\": [llm.invoke(state[\"messages\"])]}\n",
    "\n",
    "\n",
    "# The first argument is the unique node name\n",
    "# The second argument is the function or object that will be called whenever\n",
    "# the node is used.\n",
    "graph_builder.add_node(\"chatbot\", chatbot)"
   ]
  },
  {
   "cell_type": "code",
   "execution_count": 27,
   "metadata": {},
   "outputs": [],
   "source": [
    "graph_builder.add_edge(START, \"chatbot\")\n",
    "graph_builder.add_edge(\"chatbot\", END)\n",
    "graph = graph_builder.compile()"
   ]
  },
  {
   "cell_type": "code",
   "execution_count": 28,
   "metadata": {},
   "outputs": [
    {
     "data": {
      "image/png": "[encoded data removed]",
      "text/plain": [
       "<IPython.core.display.Image object>"
      ]
     },
     "metadata": {},
     "output_type": "display_data"
    }
   ],
   "source": [
    "from IPython.display import Image, display\n",
    "\n",
    "try:\n",
    "    display(Image(graph.get_graph().draw_mermaid_png()))\n",
    "except Exception:\n",
    "    # This requires some extra dependencies and is optional\n",
    "    pass"
   ]
  },
  {
   "cell_type": "code",
   "execution_count": 29,
   "metadata": {},
   "outputs": [
    {
     "name": "stdout",
     "output_type": "stream",
     "text": [
      "Assistant: Hello! How can I help you today? 😄\n",
      "\n",
      "Goodbye!\n"
     ]
    }
   ],
   "source": [
    "def stream_graph_updates(user_input: str):\n",
    "    for event in graph.stream({\"messages\": [{\"role\": \"user\", \"content\": user_input}]}):\n",
    "        for value in event.values():\n",
    "            print(\"Assistant:\", value[\"messages\"][-1].content)\n",
    "\n",
    "\n",
    "while True:\n",
    "    try:\n",
    "        user_input = input(\"User: \")\n",
    "        if user_input.lower() in [\"quit\", \"exit\", \"q\"]:\n",
    "            print(\"Goodbye!\")\n",
    "            break\n",
    "\n",
    "        stream_graph_updates(user_input)\n",
    "    except:\n",
    "        # fallback if input() is not available\n",
    "        user_input = \"What do you know about LangGraph?\"\n",
    "        print(\"User: \" + user_input)\n",
    "        stream_graph_updates(user_input)\n",
    "        break"
   ]
  },
  {
   "cell_type": "code",
   "execution_count": null,
   "metadata": {},
   "outputs": [],
   "source": []
  },
  {
   "cell_type": "markdown",
   "metadata": {},
   "source": [
    "## PART 2"
   ]
  },
  {
   "cell_type": "code",
   "execution_count": 30,
   "metadata": {},
   "outputs": [],
   "source": [
    "dotenv_path = find_dotenv()\n",
    "load_dotenv(dotenv_path)\n",
    "tavily_api_key = os.getenv(\"tavily_api_key\")\n",
    "os.environ[\"tavily_api_key\"] = tavily_api_key\n",
    "\n",
    "def _set_env(var: str):\n",
    "    if not os.environ.get(var):\n",
    "        os.environ[var] = getpass.getpass(f\"{var}: \")\n",
    "\n",
    "_set_env(\"tavily_api_key\")"
   ]
  },
  {
   "cell_type": "code",
   "execution_count": 31,
   "metadata": {},
   "outputs": [
    {
     "name": "stdout",
     "output_type": "stream",
     "text": [
      "Requirement already satisfied: tavily-python in .\\.venv\\lib\\site-packages (0.5.1)\n",
      "Requirement already satisfied: langchain_community in .\\.venv\\lib\\site-packages (0.3.20)\n",
      "Requirement already satisfied: tiktoken>=0.5.1 in .\\.venv\\lib\\site-packages (from tavily-python) (0.9.0)\n",
      "Requirement already satisfied: httpx in .\\.venv\\lib\\site-packages (from tavily-python) (0.28.1)\n",
      "Requirement already satisfied: requests in .\\.venv\\lib\\site-packages (from tavily-python) (2.32.3)\n",
      "Requirement already satisfied: httpx-sse<1.0.0,>=0.4.0 in .\\.venv\\lib\\site-packages (from langchain_community) (0.4.0)\n",
      "Requirement already satisfied: PyYAML>=5.3 in .\\.venv\\lib\\site-packages (from langchain_community) (6.0.2)\n",
      "Requirement already satisfied: dataclasses-json<0.7,>=0.5.7 in .\\.venv\\lib\\site-packages (from langchain_community) (0.6.7)\n",
      "Requirement already satisfied: tenacity!=8.4.0,<10,>=8.1.0 in .\\.venv\\lib\\site-packages (from langchain_community) (9.0.0)\n",
      "Requirement already satisfied: langsmith<0.4,>=0.1.125 in .\\.venv\\lib\\site-packages (from langchain_community) (0.3.18)\n",
      "Requirement already satisfied: langchain<1.0.0,>=0.3.21 in .\\.venv\\lib\\site-packages (from langchain_community) (0.3.21)\n",
      "Requirement already satisfied: numpy<3,>=1.26.2 in .\\.venv\\lib\\site-packages (from langchain_community) (2.2.4)\n",
      "Requirement already satisfied: SQLAlchemy<3,>=1.4 in .\\.venv\\lib\\site-packages (from langchain_community) (2.0.39)\n",
      "Requirement already satisfied: pydantic-settings<3.0.0,>=2.4.0 in .\\.venv\\lib\\site-packages (from langchain_community) (2.8.1)\n",
      "Requirement already satisfied: aiohttp<4.0.0,>=3.8.3 in .\\.venv\\lib\\site-packages (from langchain_community) (3.11.14)\n",
      "Requirement already satisfied: langchain-core<1.0.0,>=0.3.45 in .\\.venv\\lib\\site-packages (from langchain_community) (0.3.48)\n",
      "Requirement already satisfied: attrs>=17.3.0 in .\\.venv\\lib\\site-packages (from aiohttp<4.0.0,>=3.8.3->langchain_community) (25.3.0)\n",
      "Requirement already satisfied: yarl<2.0,>=1.17.0 in .\\.venv\\lib\\site-packages (from aiohttp<4.0.0,>=3.8.3->langchain_community) (1.18.3)\n",
      "Requirement already satisfied: propcache>=0.2.0 in .\\.venv\\lib\\site-packages (from aiohttp<4.0.0,>=3.8.3->langchain_community) (0.3.0)\n",
      "Requirement already satisfied: async-timeout<6.0,>=4.0 in .\\.venv\\lib\\site-packages (from aiohttp<4.0.0,>=3.8.3->langchain_community) (4.0.3)\n",
      "Requirement already satisfied: multidict<7.0,>=4.5 in .\\.venv\\lib\\site-packages (from aiohttp<4.0.0,>=3.8.3->langchain_community) (6.2.0)\n",
      "Requirement already satisfied: aiosignal>=1.1.2 in .\\.venv\\lib\\site-packages (from aiohttp<4.0.0,>=3.8.3->langchain_community) (1.3.2)\n",
      "Requirement already satisfied: aiohappyeyeballs>=2.3.0 in .\\.venv\\lib\\site-packages (from aiohttp<4.0.0,>=3.8.3->langchain_community) (2.6.1)\n",
      "Requirement already satisfied: frozenlist>=1.1.1 in .\\.venv\\lib\\site-packages (from aiohttp<4.0.0,>=3.8.3->langchain_community) (1.5.0)\n",
      "Requirement already satisfied: marshmallow<4.0.0,>=3.18.0 in .\\.venv\\lib\\site-packages (from dataclasses-json<0.7,>=0.5.7->langchain_community) (3.26.1)\n",
      "Requirement already satisfied: typing-inspect<1,>=0.4.0 in .\\.venv\\lib\\site-packages (from dataclasses-json<0.7,>=0.5.7->langchain_community) (0.9.0)\n",
      "Requirement already satisfied: langchain-text-splitters<1.0.0,>=0.3.7 in .\\.venv\\lib\\site-packages (from langchain<1.0.0,>=0.3.21->langchain_community) (0.3.7)\n",
      "Requirement already satisfied: pydantic<3.0.0,>=2.7.4 in .\\.venv\\lib\\site-packages (from langchain<1.0.0,>=0.3.21->langchain_community) (2.10.6)\n",
      "Requirement already satisfied: packaging<25,>=23.2 in .\\.venv\\lib\\site-packages (from langchain-core<1.0.0,>=0.3.45->langchain_community) (24.2)\n",
      "Requirement already satisfied: typing-extensions>=4.7 in .\\.venv\\lib\\site-packages (from langchain-core<1.0.0,>=0.3.45->langchain_community) (4.12.2)\n",
      "Requirement already satisfied: jsonpatch<2.0,>=1.33 in .\\.venv\\lib\\site-packages (from langchain-core<1.0.0,>=0.3.45->langchain_community) (1.33)\n",
      "Requirement already satisfied: orjson<4.0.0,>=3.9.14 in .\\.venv\\lib\\site-packages (from langsmith<0.4,>=0.1.125->langchain_community) (3.10.16)\n",
      "Requirement already satisfied: requests-toolbelt<2.0.0,>=1.0.0 in .\\.venv\\lib\\site-packages (from langsmith<0.4,>=0.1.125->langchain_community) (1.0.0)\n",
      "Requirement already satisfied: zstandard<0.24.0,>=0.23.0 in .\\.venv\\lib\\site-packages (from langsmith<0.4,>=0.1.125->langchain_community) (0.23.0)\n",
      "Requirement already satisfied: certifi in .\\.venv\\lib\\site-packages (from httpx->tavily-python) (2025.1.31)\n",
      "Requirement already satisfied: anyio in .\\.venv\\lib\\site-packages (from httpx->tavily-python) (4.9.0)\n",
      "Requirement already satisfied: idna in .\\.venv\\lib\\site-packages (from httpx->tavily-python) (3.10)\n",
      "Requirement already satisfied: httpcore==1.* in .\\.venv\\lib\\site-packages (from httpx->tavily-python) (1.0.7)\n",
      "Requirement already satisfied: h11<0.15,>=0.13 in .\\.venv\\lib\\site-packages (from httpcore==1.*->httpx->tavily-python) (0.14.0)\n",
      "Requirement already satisfied: python-dotenv>=0.21.0 in .\\.venv\\lib\\site-packages (from pydantic-settings<3.0.0,>=2.4.0->langchain_community) (1.0.1)\n",
      "Requirement already satisfied: charset-normalizer<4,>=2 in .\\.venv\\lib\\site-packages (from requests->tavily-python) (3.4.1)\n",
      "Requirement already satisfied: urllib3<3,>=1.21.1 in .\\.venv\\lib\\site-packages (from requests->tavily-python) (2.3.0)\n",
      "Requirement already satisfied: greenlet!=0.4.17 in .\\.venv\\lib\\site-packages (from SQLAlchemy<3,>=1.4->langchain_community) (3.1.1)\n",
      "Requirement already satisfied: regex>=2022.1.18 in .\\.venv\\lib\\site-packages (from tiktoken>=0.5.1->tavily-python) (2024.11.6)\n",
      "Requirement already satisfied: jsonpointer>=1.9 in .\\.venv\\lib\\site-packages (from jsonpatch<2.0,>=1.33->langchain-core<1.0.0,>=0.3.45->langchain_community) (3.0.0)\n",
      "Requirement already satisfied: pydantic-core==2.27.2 in .\\.venv\\lib\\site-packages (from pydantic<3.0.0,>=2.7.4->langchain<1.0.0,>=0.3.21->langchain_community) (2.27.2)\n",
      "Requirement already satisfied: annotated-types>=0.6.0 in .\\.venv\\lib\\site-packages (from pydantic<3.0.0,>=2.7.4->langchain<1.0.0,>=0.3.21->langchain_community) (0.7.0)\n",
      "Requirement already satisfied: mypy-extensions>=0.3.0 in .\\.venv\\lib\\site-packages (from typing-inspect<1,>=0.4.0->dataclasses-json<0.7,>=0.5.7->langchain_community) (1.0.0)\n",
      "Requirement already satisfied: exceptiongroup>=1.0.2 in .\\.venv\\lib\\site-packages (from anyio->httpx->tavily-python) (1.2.2)\n",
      "Requirement already satisfied: sniffio>=1.1 in .\\.venv\\lib\\site-packages (from anyio->httpx->tavily-python) (1.3.1)\n",
      "Note: you may need to restart the kernel to use updated packages.\n"
     ]
    },
    {
     "name": "stderr",
     "output_type": "stream",
     "text": [
      "\n",
      "[notice] A new release of pip is available: 23.0.1 -> 25.0.1\n",
      "[notice] To update, run: python.exe -m pip install --upgrade pip\n"
     ]
    }
   ],
   "source": [
    "%pip install -U tavily-python langchain_community"
   ]
  },
  {
   "cell_type": "code",
   "execution_count": 61,
   "metadata": {},
   "outputs": [
    {
     "data": {
      "text/plain": [
       "[{'title': 'LangGraph Glossary - GitHub Pages',\n",
       "  'url': 'https://langchain-ai.github.io/langgraph/concepts/low_level/',\n",
       "  'content': 'In LangGraph, nodes are typically python functions (sync or async) where the first positional argument is the state, and (optionally), the second positional argument is a \"config\", containing optional configurable parameters (such as a thread_id).\\nSimilar to NetworkX, you add these nodes to a graph using the add_node method:\\n[](https://langchain-ai.github.io/langgraph/concepts/low_level/#__codelineno-7-1)from langchain_core.runnables import RunnableConfig [...] By composing Nodes and Edges, you can create complex, looping workflows that evolve the State over time. The real power, though, comes from how LangGraph manages that State. To emphasize: Nodes and Edges are nothing more than Python functions - they can contain an LLM or just good ol\\' Python code.\\nIn short: nodes do the work. edges tell what to do next. [...] Nodes: Python functions that encode the logic of your agents. They receive the current State as input, perform some computation or side-effect, and return an updated State.\\n\\n\\nEdges: Python functions that determine which Node to execute next based on the current State. They can be conditional branches or fixed transitions.',\n",
       "  'score': 0.9008183},\n",
       " {'title': 'LangGraph Glossary - GitHub Pages',\n",
       "  'url': 'https://langchain-ai.github.io/langgraphjs/concepts/low_level/',\n",
       "  'content': 'In LangGraph, nodes are typically JavaScript/TypeScript functions (sync or async) where the first positional argument is the state, and (optionally), the second positional argument is a \"config\", containing optional configurable parameters (such as a thread_id).\\nSimilar to NetworkX, you add these nodes to a graph using the addNode method:\\n[](https://langchain-ai.github.io/langgraphjs/concepts/low_level/#__codelineno-10-1)import{RunnableConfig}from\"@langchain/core/runnables\"; [...] By composing Nodes and Edges, you can create complex, looping workflows that evolve the State over time. The real power, though, comes from how LangGraph manages that State. To emphasize: Nodes and Edges are nothing more than JavaScript/TypeScript functions - they can contain an LLM or just good ol\\' JavaScript/TypeScript code.\\nIn short: nodes do the work. edges tell what to do next. [...] Nodes: JavaScript/TypeScript functions that encode the logic of your agents. They receive the current State as input, perform some computation or side-effect, and return an updated State.\\n\\n\\nEdges: JavaScript/TypeScript functions that determine which Node to execute next based on the current State. They can be conditional branches or fixed transitions.',\n",
       "  'score': 0.8974172}]"
      ]
     },
     "execution_count": 61,
     "metadata": {},
     "output_type": "execute_result"
    }
   ],
   "source": [
    "from langchain_community.tools.tavily_search import TavilySearchResults\n",
    "\n",
    "tool = TavilySearchResults(max_results=2)\n",
    "tools = [tool]\n",
    "tool.invoke(\"What's a 'node' in LangGraph?\")"
   ]
  },
  {
   "cell_type": "code",
   "execution_count": 62,
   "metadata": {},
   "outputs": [
    {
     "data": {
      "text/plain": [
       "<langgraph.graph.state.StateGraph at 0x2cea410d2a0>"
      ]
     },
     "execution_count": 62,
     "metadata": {},
     "output_type": "execute_result"
    }
   ],
   "source": [
    "from typing import Annotated\n",
    "\n",
    "from langchain_anthropic import ChatAnthropic\n",
    "from typing_extensions import TypedDict\n",
    "\n",
    "from langgraph.graph import StateGraph, START, END\n",
    "from langgraph.graph.message import add_messages\n",
    "\n",
    "\n",
    "class State(TypedDict):\n",
    "    messages: Annotated[list, add_messages]\n",
    "\n",
    "\n",
    "graph_builder = StateGraph(State)\n",
    "\n",
    "\n",
    "#llm = ChatAnthropic(model=\"claude-3-5-sonnet-20240620\")\n",
    "llm=ChatGroq(groq_api_key=groq_api_key,model_name=\"Gemma2-9b-It\")\n",
    "# Modification: tell the LLM which tools it can call\n",
    "llm_with_tools = llm.bind_tools(tools)\n",
    "\n",
    "\n",
    "def chatbot(state: State):\n",
    "    return {\"messages\": [llm_with_tools.invoke(state[\"messages\"])]}\n",
    "\n",
    "\n",
    "graph_builder.add_node(\"chatbot\", chatbot)"
   ]
  },
  {
   "cell_type": "code",
   "execution_count": 63,
   "metadata": {},
   "outputs": [
    {
     "data": {
      "text/plain": [
       "<langgraph.graph.state.StateGraph at 0x2cea410d2a0>"
      ]
     },
     "execution_count": 63,
     "metadata": {},
     "output_type": "execute_result"
    }
   ],
   "source": [
    "import json\n",
    "\n",
    "from langchain_core.messages import ToolMessage\n",
    "\n",
    "\n",
    "class BasicToolNode:\n",
    "    \"\"\"A node that runs the tools requested in the last AIMessage.\"\"\"\n",
    "\n",
    "    def __init__(self, tools: list) -> None:\n",
    "        self.tools_by_name = {tool.name: tool for tool in tools}\n",
    "\n",
    "    def __call__(self, inputs: dict):\n",
    "        if messages := inputs.get(\"messages\", []):\n",
    "            message = messages[-1]\n",
    "        else:\n",
    "            raise ValueError(\"No message found in input\")\n",
    "        outputs = []\n",
    "        for tool_call in message.tool_calls:\n",
    "            tool_result = self.tools_by_name[tool_call[\"name\"]].invoke(\n",
    "                tool_call[\"args\"]\n",
    "            )\n",
    "            outputs.append(\n",
    "                ToolMessage(\n",
    "                    content=json.dumps(tool_result),\n",
    "                    name=tool_call[\"name\"],\n",
    "                    tool_call_id=tool_call[\"id\"],\n",
    "                )\n",
    "            )\n",
    "        return {\"messages\": outputs}\n",
    "\n",
    "\n",
    "tool_node = BasicToolNode(tools=[tool])\n",
    "graph_builder.add_node(\"tools\", tool_node)"
   ]
  },
  {
   "cell_type": "code",
   "execution_count": 64,
   "metadata": {},
   "outputs": [],
   "source": [
    "def route_tools(\n",
    "    state: State,\n",
    "):\n",
    "    \"\"\"\n",
    "    Use in the conditional_edge to route to the ToolNode if the last message\n",
    "    has tool calls. Otherwise, route to the end.\n",
    "    \"\"\"\n",
    "    if isinstance(state, list):\n",
    "        ai_message = state[-1]\n",
    "    elif messages := state.get(\"messages\", []):\n",
    "        ai_message = messages[-1]\n",
    "    else:\n",
    "        raise ValueError(f\"No messages found in input state to tool_edge: {state}\")\n",
    "    if hasattr(ai_message, \"tool_calls\") and len(ai_message.tool_calls) > 0:\n",
    "        return \"tools\"\n",
    "    return END\n",
    "\n",
    "\n",
    "# The `tools_condition` function returns \"tools\" if the chatbot asks to use a tool, and \"END\" if\n",
    "# it is fine directly responding. This conditional routing defines the main agent loop.\n",
    "graph_builder.add_conditional_edges(\n",
    "    \"chatbot\",\n",
    "    route_tools,\n",
    "    # The following dictionary lets you tell the graph to interpret the condition's outputs as a specific node\n",
    "    # It defaults to the identity function, but if you\n",
    "    # want to use a node named something else apart from \"tools\",\n",
    "    # You can update the value of the dictionary to something else\n",
    "    # e.g., \"tools\": \"my_tools\"\n",
    "    {\"tools\": \"tools\", END: END},\n",
    ")\n",
    "# Any time a tool is called, we return to the chatbot to decide the next step\n",
    "graph_builder.add_edge(\"tools\", \"chatbot\")\n",
    "graph_builder.add_edge(START, \"chatbot\")\n",
    "graph = graph_builder.compile()"
   ]
  },
  {
   "cell_type": "code",
   "execution_count": 65,
   "metadata": {},
   "outputs": [
    {
     "data": {
      "image/png": "[encoded data removed]",
      "text/plain": [
       "<IPython.core.display.Image object>"
      ]
     },
     "metadata": {},
     "output_type": "display_data"
    }
   ],
   "source": [
    "from IPython.display import Image, display\n",
    "\n",
    "try:\n",
    "    display(Image(graph.get_graph().draw_mermaid_png()))\n",
    "except Exception:\n",
    "    # This requires some extra dependencies and is optional\n",
    "    pass"
   ]
  },
  {
   "cell_type": "code",
   "execution_count": 66,
   "metadata": {},
   "outputs": [
    {
     "name": "stdout",
     "output_type": "stream",
     "text": [
      "Assistant: \n",
      "Assistant: [{\"title\": \"Average age of male gymnasts finalists from different OG held in ...\", \"url\": \"https://www.researchgate.net/figure/Average-age-of-male-gymnasts-finalists-from-different-OG-held-in-period-from-1980-to-2016_fig1_320508499\", \"content\": \"Average age (AA) of all male finalists (All-Around and Event Finalist) from the OG held in the period from 1980 to 2016, generally ranged from 22.6 (OG1988) to\", \"score\": 0.42993253}, {\"title\": \"What is the avg age breakdown of a DCA corps? : r/drumcorps - Reddit\", \"url\": \"https://www.reddit.com/r/drumcorps/comments/a45x40/what_is_the_avg_age_breakdown_of_a_dca_corps/\", \"content\": \"Bucs average age is in the low 20s I believe. I was in the OG group at 29 in 2017 (10ish oldest individuals) and had I marched last year, I\", \"score\": 0.18374038}]\n",
      "Assistant: It appears the information you are looking for is about the average age of gymnasts in the Olympics. \n",
      "\n",
      "\n",
      "\n",
      "Assistant: \n",
      "Assistant: [{\"title\": \"Aging in dogs - Wikipedia\", \"url\": \"https://en.wikipedia.org/wiki/Aging_in_dogs\", \"content\": \"The aging profile of dogs varies according to their adult size (often determined by their breed): smaller breeds have an average lifespan of 10\\u201315 years, with some even exceeding 18 years in age; medium breeds typically live for 10 to 13 years; and giant dog breeds have the lowest minimum lifespan, with an overall average of 8 to 13 years. The latter reach maturity at a slightly older age than smaller breeds, with giant breeds reaching adulthood at around two years old compared to the norm of [...] A random-bred dog (also known as a mongrel or a mutt) has an average life expectancy of 13.2[citation needed] years in the Western world.\\n\\nSome attempts[9][10] have been made to determine the causes for breed variation in life expectancy.\\n\\nSorted by breed or life expectancy\\n\\nThe following data is from a 2024 study published in Scientific Reports. The total sample size for his study was about 584,734 unique dogs located in the UK, of which 284,734 were deceased.[11] [...] According to the UC Davis Book of Dogs, small-breed dogs (such as small terriers) become geriatric at about 11 years; medium-breed dogs (such as larger spaniels) at 10 years; large-breed dogs (such as German Shepherd Dogs) at 8 years; and giant-breed dogs (such as Great Danes) at 7 years.[6]\\n\\nLife expectancy by breed\", \"score\": 0.7913865}, {\"title\": \"How to Calculate Your Dog's Age - WebMD\", \"url\": \"https://www.webmd.com/pets/dogs/how-to-calculate-your-dogs-age\", \"content\": \"On average, you can expect a small dog breed such as chihuahua, Chinese crested, and Pomeranian to be with you for around 10 to 15 years, with\", \"score\": 0.7116118}]\n",
      "Assistant: \n",
      "Assistant: [{\"title\": \"How to Calculate Your Dog's Age - WebMD\", \"url\": \"https://www.webmd.com/pets/dogs/how-to-calculate-your-dogs-age\", \"content\": \"It depends on the dog's size, but a medium-size 7-year-old dog is about 47 in human years.\\n\\nHow old is a 10-year-old dog?\\n\\nA medium-sized 10-year-old dog is about 60 in human years.\\n\\nWhat is the dog age equivalent calculator?\\n\\nIn 2019, researchers at the University of California San Diego came up with a new way to figure out a dog's age in human terms. They used a concept called DNA methylation, which changes in both humans and dogs as they get older.\\u00c2 [...] Knowing your dog's age in human years may not be as simple as you think. But understanding how dogs age can help you take better care of them for their entire life. (Photo Credit: EyeEm/Getty Images)\\n\\nDog Years to Human Years\\n\\nHow do dog years work? Dogs mature more quickly than we do early on. So the first year of your fuzzy friend\\u00e2\\u0080\\u0099s life is equal to about 15 human years.\", \"score\": 0.85157084}, {\"title\": \"How Old Is My Dog in Human Years? - James Wellbeloved\", \"url\": \"https://wellbeloved.com/blogs/caring-for-dogs/how-old-is-my-dog-in-human-years?srsltid=AfmBOooqa34TWZMNFQwi_D-KW8BGMFKszx13X0DjjlaNObsQRP4QGM3j\", \"content\": \"The general rule to follow is that your dog ages 15 human years in year one, 9 years in year two, and 5 years thereafter.\", \"score\": 0.82186085}]\n",
      "Assistant: A medium-size dog ages to about 47 in human years at 7 years old. \n",
      "\n",
      "Assistant: \n",
      "Assistant: [{\"title\": \"Aging in dogs - Wikipedia\", \"url\": \"https://en.wikipedia.org/wiki/Aging_in_dogs\", \"content\": \"The aging profile of dogs varies according to their adult size (often determined by their breed): smaller breeds have an average lifespan of 10\\u201315 years, with some even exceeding 18 years in age; medium breeds typically live for 10 to 13 years; and giant dog breeds have the lowest minimum lifespan, with an overall average of 8 to 13 years. The latter reach maturity at a slightly older age than smaller breeds, with giant breeds reaching adulthood at around two years old compared to the norm of [...] A random-bred dog (also known as a mongrel or a mutt) has an average life expectancy of 13.2[citation needed] years in the Western world.\\n\\nSome attempts[9][10] have been made to determine the causes for breed variation in life expectancy.\\n\\nSorted by breed or life expectancy\\n\\nThe following data is from a 2024 study published in Scientific Reports. The total sample size for his study was about 584,734 unique dogs located in the UK, of which 284,734 were deceased.[11] [...] According to the UC Davis Book of Dogs, small-breed dogs (such as small terriers) become geriatric at about 11 years; medium-breed dogs (such as larger spaniels) at 10 years; large-breed dogs (such as German Shepherd Dogs) at 8 years; and giant-breed dogs (such as Great Danes) at 7 years.[6]\\n\\nLife expectancy by breed\", \"score\": 0.80844593}, {\"title\": \"Dog Years: The 5 Stages of Your Pet's Life\", \"url\": \"https://pettownsendvet.com/blog/dog-years/\", \"content\": \"Most dogs technically reach the middle of their life between the ages of 5 and 7 years old, and it generally lasts until the dog is around 8 to 10 years old.\", \"score\": 0.74785584}]\n",
      "Assistant: \n",
      "Assistant: [{\"title\": \"How to Calculate Your Dog's Age - WebMD\", \"url\": \"https://www.webmd.com/pets/dogs/how-to-calculate-your-dogs-age\", \"content\": \"It depends on the dog's size, but a medium-size 7-year-old dog is about 47 in human years.\\n\\nHow old is a 10-year-old dog?\\n\\nA medium-sized 10-year-old dog is about 60 in human years.\\n\\nWhat is the dog age equivalent calculator?\\n\\nIn 2019, researchers at the University of California San Diego came up with a new way to figure out a dog's age in human terms. They used a concept called DNA methylation, which changes in both humans and dogs as they get older.\\u00c2 [...] Knowing your dog's age in human years may not be as simple as you think. But understanding how dogs age can help you take better care of them for their entire life. (Photo Credit: EyeEm/Getty Images)\\n\\nDog Years to Human Years\\n\\nHow do dog years work? Dogs mature more quickly than we do early on. So the first year of your fuzzy friend\\u00e2\\u0080\\u0099s life is equal to about 15 human years.\", \"score\": 0.85825616}, {\"title\": \"How Old is Old? Comparing Dog Age to Human Age\", \"url\": \"https://vcahospitals.com/know-your-pet/how-old-is-old-comparing-dog-age-to-human-age\", \"content\": \"Another factor that skews age calculation involves the rate of canine development. Dogs develop more quickly the first two years of life, after which development levels out a bit. During the first two years, one dog year equals about 10.5 human years. So, the dog: human aging ratios is 10.5:1 rather than 7:1. When a dog hits the three-year mark, he ages 4 years to every 1 human year bringing the ratio to 4:1. Using this formula, a 10-year old dog is the equivalent of a 53-year old human. Using [...] Complications in comparing dog age to human age are well founded. The old \\u201c7 dog years = 1 human year\\u201d theory is inaccurate, because the dog ages and develops more quickly the first two years of life. Plus, the ratio varies with dog breed and size. Even the more accepted equation utilizing the 10.5 factor the first two years of the dog\\u2019s life and 4 years thereafter has pitfalls, because it does not account for size and breed. The most accurate estimate of a dog\\u2019s age in human years is [...] Who knows? The easiest equation (7:1) is probably the least accurate. Formulas that take into consideration the faster development that occurs the first two years of life give a more accurate comparison. But even with this theory, there is variation. Some mathematicians feel that a 1-year old dog should be compared to a 10- to 15-year old human. The second year, as development levels out, should equate to 3 to 8 years of human aging. That would put a 2-year old dog on par with a 13- to 23-year\", \"score\": 0.834852}]\n",
      "Assistant: \n",
      "Assistant: [{\"title\": \"How Long Do Dogs Really Live? Find Out! | Purina US\", \"url\": \"https://www.purina.com/articles/dog/behavior/understanding-dogs/how-long-do-dogs-live\", \"content\": \"On average, dogs live for 10-13 years which is roughly equivalent to 60-74 human years, although there is no hard and fast way of working this out.\", \"score\": 0.8965509}, {\"title\": \"How long might your dog live? New study calculates life expectancy ...\", \"url\": \"https://theconversation.com/how-long-might-your-dog-live-new-study-calculates-life-expectancy-for-different-breeds-222446\", \"content\": \"On average, dogs live for 10-13 years, which is considered roughly equivalent to between 60-74 human years. Small, long-nosed dogs have the highest life\", \"score\": 0.8875269}]\n",
      "Assistant: A dog lives an average of 10-13 years.  \n",
      "\n",
      "Goodbye!\n"
     ]
    }
   ],
   "source": [
    "while True:\n",
    "    try:\n",
    "        user_input = input(\"User: \")\n",
    "        if user_input.lower() in [\"quit\", \"exit\", \"q\"]:\n",
    "            print(\"Goodbye!\")\n",
    "            break\n",
    "\n",
    "        stream_graph_updates(user_input)\n",
    "    except:\n",
    "        # fallback if input() is not available\n",
    "        user_input = \"What do you know about LangGraph?\"\n",
    "        print(\"User: \" + user_input)\n",
    "        stream_graph_updates(user_input)\n",
    "        break"
   ]
  },
  {
   "cell_type": "markdown",
   "metadata": {},
   "source": [
    "# part 3"
   ]
  },
  {
   "cell_type": "code",
   "execution_count": 38,
   "metadata": {},
   "outputs": [],
   "source": [
    "from langgraph.checkpoint.memory import MemorySaver\n",
    "\n",
    "memory = MemorySaver()"
   ]
  },
  {
   "cell_type": "code",
   "execution_count": 44,
   "metadata": {},
   "outputs": [
    {
     "data": {
      "text/plain": [
       "<langgraph.graph.state.StateGraph at 0x2cea40bff70>"
      ]
     },
     "execution_count": 44,
     "metadata": {},
     "output_type": "execute_result"
    }
   ],
   "source": [
    "from typing import Annotated\n",
    "\n",
    "from langchain_anthropic import ChatAnthropic\n",
    "from langchain_community.tools.tavily_search import TavilySearchResults\n",
    "from langchain_core.messages import BaseMessage\n",
    "from typing_extensions import TypedDict\n",
    "\n",
    "from langgraph.graph import StateGraph, START, END\n",
    "from langgraph.graph.message import add_messages\n",
    "from langgraph.prebuilt import ToolNode, tools_condition\n",
    "\n",
    "\n",
    "class State(TypedDict):\n",
    "    messages: Annotated[list, add_messages]\n",
    "\n",
    "\n",
    "graph_builder = StateGraph(State)\n",
    "\n",
    "\n",
    "tool = TavilySearchResults(max_results=2)\n",
    "tools = [tool]\n",
    "#llm = ChatAnthropic(model=\"claude-3-5-sonnet-20240620\")\n",
    "llm=ChatGroq(groq_api_key=groq_api_key,model_name=\"Gemma2-9b-It\")\n",
    "llm_with_tools = llm.bind_tools(tools)\n",
    "\n",
    "\n",
    "def chatbot(state: State):\n",
    "    return {\"messages\": [llm_with_tools.invoke(state[\"messages\"])]}\n",
    "\n",
    "\n",
    "graph_builder.add_node(\"chatbot\", chatbot)\n",
    "\n",
    "tool_node = ToolNode(tools=[tool])\n",
    "graph_builder.add_node(\"tools\", tool_node)\n",
    "\n",
    "graph_builder.add_conditional_edges(\n",
    "    \"chatbot\",\n",
    "    tools_condition,\n",
    ")\n",
    "# Any time a tool is called, we return to the chatbot to decide the next step\n",
    "graph_builder.add_edge(\"tools\", \"chatbot\")\n",
    "graph_builder.add_edge(START, \"chatbot\")"
   ]
  },
  {
   "cell_type": "code",
   "execution_count": 45,
   "metadata": {},
   "outputs": [],
   "source": [
    "graph = graph_builder.compile(checkpointer=memory)"
   ]
  },
  {
   "cell_type": "code",
   "execution_count": 46,
   "metadata": {},
   "outputs": [
    {
     "data": {
      "image/png": "[encoded data removed]",
      "text/plain": [
       "<IPython.core.display.Image object>"
      ]
     },
     "metadata": {},
     "output_type": "display_data"
    }
   ],
   "source": [
    "from IPython.display import Image, display\n",
    "\n",
    "try:\n",
    "    display(Image(graph.get_graph().draw_mermaid_png()))\n",
    "except Exception:\n",
    "    # This requires some extra dependencies and is optional\n",
    "    pass"
   ]
  },
  {
   "cell_type": "code",
   "execution_count": 42,
   "metadata": {},
   "outputs": [],
   "source": [
    "config = {\"configurable\": {\"thread_id\": \"1\"}}"
   ]
  },
  {
   "cell_type": "code",
   "execution_count": 47,
   "metadata": {},
   "outputs": [
    {
     "name": "stdout",
     "output_type": "stream",
     "text": [
      "================================\u001b[1m Human Message \u001b[0m=================================\n",
      "\n",
      "Hi there! My name is Will.\n",
      "==================================\u001b[1m Ai Message \u001b[0m==================================\n",
      "\n",
      "Hello Will, it's nice to meet you!\n"
     ]
    }
   ],
   "source": [
    "user_input = \"Hi there! My name is Will.\"\n",
    "\n",
    "# The config is the **second positional argument** to stream() or invoke()!\n",
    "events = graph.stream(\n",
    "    {\"messages\": [{\"role\": \"user\", \"content\": user_input}]},\n",
    "    config,\n",
    "    stream_mode=\"values\",\n",
    ")\n",
    "for event in events:\n",
    "    event[\"messages\"][-1].pretty_print()"
   ]
  },
  {
   "cell_type": "code",
   "execution_count": 48,
   "metadata": {},
   "outputs": [
    {
     "name": "stdout",
     "output_type": "stream",
     "text": [
      "================================\u001b[1m Human Message \u001b[0m=================================\n",
      "\n",
      "Remember my name?\n",
      "==================================\u001b[1m Ai Message \u001b[0m==================================\n",
      "\n",
      "Yes, I remember you said your name is Will.\n"
     ]
    }
   ],
   "source": [
    "user_input = \"Remember my name?\"\n",
    "\n",
    "# The config is the **second positional argument** to stream() or invoke()!\n",
    "events = graph.stream(\n",
    "    {\"messages\": [{\"role\": \"user\", \"content\": user_input}]},\n",
    "    config,\n",
    "    stream_mode=\"values\",\n",
    ")\n",
    "for event in events:\n",
    "    event[\"messages\"][-1].pretty_print()"
   ]
  },
  {
   "cell_type": "code",
   "execution_count": null,
   "metadata": {},
   "outputs": [],
   "source": [
    "# The only difference is we change the `thread_id` here to \"2\" instead of \"1\"\n",
    "events = graph.stream(\n",
    "    {\"messages\": [{\"role\": \"user\", \"content\": user_input}]},\n",
    "    {\"configurable\": {\"thread_id\": \"2\"}},\n",
    "    stream_mode=\"values\",\n",
    ")\n",
    "for event in events:\n",
    "    event[\"messages\"][-1].pretty_print()"
   ]
  },
  {
   "cell_type": "code",
   "execution_count": 50,
   "metadata": {},
   "outputs": [
    {
     "data": {
      "text/plain": [
       "StateSnapshot(values={'messages': [HumanMessage(content='Hi there! My name is Will.', additional_kwargs={}, response_metadata={}, id='1f4e6de3-7808-41c2-a226-2705796202d0'), HumanMessage(content='Hi there! My name is Will.', additional_kwargs={}, response_metadata={}, id='c96f62e6-1cc9-48af-973c-ec9545f1fc26'), AIMessage(content=\"Hello Will, it's nice to meet you!\", additional_kwargs={}, response_metadata={'token_usage': {'completion_tokens': 13, 'prompt_tokens': 1007, 'total_tokens': 1020, 'completion_time': 0.023636364, 'prompt_time': 0.035676632, 'queue_time': 0.020426226999999998, 'total_time': 0.059312996}, 'model_name': 'Gemma2-9b-It', 'system_fingerprint': 'fp_10c08bf97d', 'finish_reason': 'stop', 'logprobs': None}, id='run-1a51efe8-28c0-4cf6-9fd9-cbde5116f723-0', usage_metadata={'input_tokens': 1007, 'output_tokens': 13, 'total_tokens': 1020}), HumanMessage(content='Remember my name?', additional_kwargs={}, response_metadata={}, id='3a603b20-635a-443d-bde3-1300b8d7d2d7'), AIMessage(content='Yes, I remember you said your name is Will.', additional_kwargs={}, response_metadata={'token_usage': {'completion_tokens': 13, 'prompt_tokens': 1032, 'total_tokens': 1045, 'completion_time': 0.023636364, 'prompt_time': 0.03651306, 'queue_time': 0.020857699, 'total_time': 0.060149424}, 'model_name': 'Gemma2-9b-It', 'system_fingerprint': 'fp_10c08bf97d', 'finish_reason': 'stop', 'logprobs': None}, id='run-c072035b-07d4-4c0e-ac77-13c092f93650-0', usage_metadata={'input_tokens': 1032, 'output_tokens': 13, 'total_tokens': 1045})]}, next=(), config={'configurable': {'thread_id': '1', 'checkpoint_ns': '', 'checkpoint_id': '1f009447-cc57-696a-8006-c300e8ae6307'}}, metadata={'source': 'loop', 'writes': {'chatbot': {'messages': [AIMessage(content='Yes, I remember you said your name is Will.', additional_kwargs={}, response_metadata={'token_usage': {'completion_tokens': 13, 'prompt_tokens': 1032, 'total_tokens': 1045, 'completion_time': 0.023636364, 'prompt_time': 0.03651306, 'queue_time': 0.020857699, 'total_time': 0.060149424}, 'model_name': 'Gemma2-9b-It', 'system_fingerprint': 'fp_10c08bf97d', 'finish_reason': 'stop', 'logprobs': None}, id='run-c072035b-07d4-4c0e-ac77-13c092f93650-0', usage_metadata={'input_tokens': 1032, 'output_tokens': 13, 'total_tokens': 1045})]}}, 'thread_id': '1', 'step': 6, 'parents': {}}, created_at='2025-03-25T06:43:40.422794+00:00', parent_config={'configurable': {'thread_id': '1', 'checkpoint_ns': '', 'checkpoint_id': '1f009447-c90b-6aa8-8005-708902c6ed3e'}}, tasks=())"
      ]
     },
     "execution_count": 50,
     "metadata": {},
     "output_type": "execute_result"
    }
   ],
   "source": [
    "snapshot = graph.get_state(config)\n",
    "snapshot"
   ]
  },
  {
   "cell_type": "code",
   "execution_count": 51,
   "metadata": {},
   "outputs": [
    {
     "data": {
      "text/plain": [
       "()"
      ]
     },
     "execution_count": 51,
     "metadata": {},
     "output_type": "execute_result"
    }
   ],
   "source": [
    "snapshot.next"
   ]
  },
  {
   "cell_type": "markdown",
   "metadata": {},
   "source": [
    "# part 4"
   ]
  },
  {
   "cell_type": "code",
   "execution_count": null,
   "metadata": {},
   "outputs": [],
   "source": []
  }
 ],
 "metadata": {
  "kernelspec": {
   "display_name": ".venv",
   "language": "python",
   "name": "python3"
  },
  "language_info": {
   "codemirror_mode": {
    "name": "ipython",
    "version": 3
   },
   "file_extension": ".py",
   "mimetype": "text/x-python",
   "name": "python",
   "nbconvert_exporter": "python",
   "pygments_lexer": "ipython3",
   "version": "3.13.2"
  }
 },
 "nbformat": 4,
 "nbformat_minor": 2
}
