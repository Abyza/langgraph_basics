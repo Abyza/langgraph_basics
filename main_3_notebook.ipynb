{
 "cells": [
  {
   "cell_type": "code",
   "execution_count": 3,
   "metadata": {},
   "outputs": [
    {
     "name": "stdout",
     "output_type": "stream",
     "text": [
      "Requirement already satisfied: langgraph in .\\.venv\\lib\\site-packages (0.3.20)\n",
      "Collecting langgraph\n",
      "  Downloading langgraph-0.3.21-py3-none-any.whl.metadata (7.7 kB)\n",
      "Requirement already satisfied: langchain_community in .\\.venv\\lib\\site-packages (0.3.20)\n",
      "Requirement already satisfied: langchain_anthropic in .\\.venv\\lib\\site-packages (0.3.10)\n",
      "Requirement already satisfied: langchain_experimental in .\\.venv\\lib\\site-packages (0.3.4)\n",
      "Requirement already satisfied: langchain-core<0.4,>=0.1 in .\\.venv\\lib\\site-packages (from langgraph) (0.3.48)\n",
      "Requirement already satisfied: langgraph-checkpoint<3.0.0,>=2.0.10 in .\\.venv\\lib\\site-packages (from langgraph) (2.0.23)\n",
      "Requirement already satisfied: langgraph-prebuilt<0.2,>=0.1.1 in .\\.venv\\lib\\site-packages (from langgraph) (0.1.4)\n",
      "Requirement already satisfied: langgraph-sdk<0.2.0,>=0.1.42 in .\\.venv\\lib\\site-packages (from langgraph) (0.1.58)\n",
      "Requirement already satisfied: xxhash<4.0.0,>=3.5.0 in .\\.venv\\lib\\site-packages (from langgraph) (3.5.0)\n",
      "Requirement already satisfied: langchain<1.0.0,>=0.3.21 in .\\.venv\\lib\\site-packages (from langchain_community) (0.3.21)\n",
      "Requirement already satisfied: SQLAlchemy<3,>=1.4 in .\\.venv\\lib\\site-packages (from langchain_community) (2.0.39)\n",
      "Requirement already satisfied: requests<3,>=2 in .\\.venv\\lib\\site-packages (from langchain_community) (2.32.3)\n",
      "Requirement already satisfied: PyYAML>=5.3 in .\\.venv\\lib\\site-packages (from langchain_community) (6.0.2)\n",
      "Requirement already satisfied: aiohttp<4.0.0,>=3.8.3 in .\\.venv\\lib\\site-packages (from langchain_community) (3.11.14)\n",
      "Requirement already satisfied: tenacity!=8.4.0,<10,>=8.1.0 in .\\.venv\\lib\\site-packages (from langchain_community) (9.0.0)\n",
      "Requirement already satisfied: dataclasses-json<0.7,>=0.5.7 in .\\.venv\\lib\\site-packages (from langchain_community) (0.6.7)\n",
      "Requirement already satisfied: pydantic-settings<3.0.0,>=2.4.0 in .\\.venv\\lib\\site-packages (from langchain_community) (2.8.1)\n",
      "Requirement already satisfied: langsmith<0.4,>=0.1.125 in .\\.venv\\lib\\site-packages (from langchain_community) (0.3.18)\n",
      "Requirement already satisfied: httpx-sse<1.0.0,>=0.4.0 in .\\.venv\\lib\\site-packages (from langchain_community) (0.4.0)\n",
      "Requirement already satisfied: numpy<3,>=1.26.2 in .\\.venv\\lib\\site-packages (from langchain_community) (2.2.4)\n",
      "Requirement already satisfied: anthropic<1,>=0.49.0 in .\\.venv\\lib\\site-packages (from langchain_anthropic) (0.49.0)\n",
      "Requirement already satisfied: pydantic<3.0.0,>=2.7.4 in .\\.venv\\lib\\site-packages (from langchain_anthropic) (2.10.6)\n",
      "Requirement already satisfied: aiohappyeyeballs>=2.3.0 in .\\.venv\\lib\\site-packages (from aiohttp<4.0.0,>=3.8.3->langchain_community) (2.6.1)\n",
      "Requirement already satisfied: aiosignal>=1.1.2 in .\\.venv\\lib\\site-packages (from aiohttp<4.0.0,>=3.8.3->langchain_community) (1.3.2)\n",
      "Requirement already satisfied: attrs>=17.3.0 in .\\.venv\\lib\\site-packages (from aiohttp<4.0.0,>=3.8.3->langchain_community) (25.3.0)\n",
      "Requirement already satisfied: frozenlist>=1.1.1 in .\\.venv\\lib\\site-packages (from aiohttp<4.0.0,>=3.8.3->langchain_community) (1.5.0)\n",
      "Requirement already satisfied: multidict<7.0,>=4.5 in .\\.venv\\lib\\site-packages (from aiohttp<4.0.0,>=3.8.3->langchain_community) (6.2.0)\n",
      "Requirement already satisfied: propcache>=0.2.0 in .\\.venv\\lib\\site-packages (from aiohttp<4.0.0,>=3.8.3->langchain_community) (0.3.0)\n",
      "Requirement already satisfied: yarl<2.0,>=1.17.0 in .\\.venv\\lib\\site-packages (from aiohttp<4.0.0,>=3.8.3->langchain_community) (1.18.3)\n",
      "Requirement already satisfied: anyio<5,>=3.5.0 in .\\.venv\\lib\\site-packages (from anthropic<1,>=0.49.0->langchain_anthropic) (4.9.0)\n",
      "Requirement already satisfied: distro<2,>=1.7.0 in .\\.venv\\lib\\site-packages (from anthropic<1,>=0.49.0->langchain_anthropic) (1.9.0)\n",
      "Requirement already satisfied: httpx<1,>=0.23.0 in .\\.venv\\lib\\site-packages (from anthropic<1,>=0.49.0->langchain_anthropic) (0.28.1)\n",
      "Requirement already satisfied: jiter<1,>=0.4.0 in .\\.venv\\lib\\site-packages (from anthropic<1,>=0.49.0->langchain_anthropic) (0.9.0)\n",
      "Requirement already satisfied: sniffio in .\\.venv\\lib\\site-packages (from anthropic<1,>=0.49.0->langchain_anthropic) (1.3.1)\n",
      "Requirement already satisfied: typing-extensions<5,>=4.10 in .\\.venv\\lib\\site-packages (from anthropic<1,>=0.49.0->langchain_anthropic) (4.12.2)\n",
      "Requirement already satisfied: marshmallow<4.0.0,>=3.18.0 in .\\.venv\\lib\\site-packages (from dataclasses-json<0.7,>=0.5.7->langchain_community) (3.26.1)\n",
      "Requirement already satisfied: typing-inspect<1,>=0.4.0 in .\\.venv\\lib\\site-packages (from dataclasses-json<0.7,>=0.5.7->langchain_community) (0.9.0)\n",
      "Requirement already satisfied: langchain-text-splitters<1.0.0,>=0.3.7 in .\\.venv\\lib\\site-packages (from langchain<1.0.0,>=0.3.21->langchain_community) (0.3.7)\n",
      "Requirement already satisfied: jsonpatch<2.0,>=1.33 in .\\.venv\\lib\\site-packages (from langchain-core<0.4,>=0.1->langgraph) (1.33)\n",
      "Requirement already satisfied: packaging<25,>=23.2 in .\\.venv\\lib\\site-packages (from langchain-core<0.4,>=0.1->langgraph) (24.2)\n",
      "Requirement already satisfied: ormsgpack<2.0.0,>=1.8.0 in .\\.venv\\lib\\site-packages (from langgraph-checkpoint<3.0.0,>=2.0.10->langgraph) (1.9.0)\n",
      "Requirement already satisfied: orjson>=3.10.1 in .\\.venv\\lib\\site-packages (from langgraph-sdk<0.2.0,>=0.1.42->langgraph) (3.10.16)\n",
      "Requirement already satisfied: requests-toolbelt<2.0.0,>=1.0.0 in .\\.venv\\lib\\site-packages (from langsmith<0.4,>=0.1.125->langchain_community) (1.0.0)\n",
      "Requirement already satisfied: zstandard<0.24.0,>=0.23.0 in .\\.venv\\lib\\site-packages (from langsmith<0.4,>=0.1.125->langchain_community) (0.23.0)\n",
      "Requirement already satisfied: annotated-types>=0.6.0 in .\\.venv\\lib\\site-packages (from pydantic<3.0.0,>=2.7.4->langchain_anthropic) (0.7.0)\n",
      "Requirement already satisfied: pydantic-core==2.27.2 in .\\.venv\\lib\\site-packages (from pydantic<3.0.0,>=2.7.4->langchain_anthropic) (2.27.2)\n",
      "Requirement already satisfied: python-dotenv>=0.21.0 in .\\.venv\\lib\\site-packages (from pydantic-settings<3.0.0,>=2.4.0->langchain_community) (1.0.1)\n",
      "Requirement already satisfied: charset-normalizer<4,>=2 in .\\.venv\\lib\\site-packages (from requests<3,>=2->langchain_community) (3.4.1)\n",
      "Requirement already satisfied: idna<4,>=2.5 in .\\.venv\\lib\\site-packages (from requests<3,>=2->langchain_community) (3.10)\n",
      "Requirement already satisfied: urllib3<3,>=1.21.1 in .\\.venv\\lib\\site-packages (from requests<3,>=2->langchain_community) (2.3.0)\n",
      "Requirement already satisfied: certifi>=2017.4.17 in .\\.venv\\lib\\site-packages (from requests<3,>=2->langchain_community) (2025.1.31)\n",
      "Requirement already satisfied: greenlet!=0.4.17 in .\\.venv\\lib\\site-packages (from SQLAlchemy<3,>=1.4->langchain_community) (3.1.1)\n",
      "Requirement already satisfied: httpcore==1.* in .\\.venv\\lib\\site-packages (from httpx<1,>=0.23.0->anthropic<1,>=0.49.0->langchain_anthropic) (1.0.7)\n",
      "Requirement already satisfied: h11<0.15,>=0.13 in .\\.venv\\lib\\site-packages (from httpcore==1.*->httpx<1,>=0.23.0->anthropic<1,>=0.49.0->langchain_anthropic) (0.14.0)\n",
      "Requirement already satisfied: jsonpointer>=1.9 in .\\.venv\\lib\\site-packages (from jsonpatch<2.0,>=1.33->langchain-core<0.4,>=0.1->langgraph) (3.0.0)\n",
      "Requirement already satisfied: mypy-extensions>=0.3.0 in .\\.venv\\lib\\site-packages (from typing-inspect<1,>=0.4.0->dataclasses-json<0.7,>=0.5.7->langchain_community) (1.0.0)\n",
      "Downloading langgraph-0.3.21-py3-none-any.whl (138 kB)\n",
      "Installing collected packages: langgraph\n",
      "  Attempting uninstall: langgraph\n",
      "    Found existing installation: langgraph 0.3.20\n",
      "    Uninstalling langgraph-0.3.20:\n",
      "      Successfully uninstalled langgraph-0.3.20\n",
      "Successfully installed langgraph-0.3.21\n",
      "Note: you may need to restart the kernel to use updated packages.\n"
     ]
    },
    {
     "name": "stderr",
     "output_type": "stream",
     "text": [
      "\n",
      "[notice] A new release of pip is available: 24.3.1 -> 25.0.1\n",
      "[notice] To update, run: python.exe -m pip install --upgrade pip\n"
     ]
    }
   ],
   "source": [
    "%pip install -U langgraph langchain_community langchain_anthropic langchain_experimental"
   ]
  },
  {
   "cell_type": "code",
   "execution_count": 25,
   "metadata": {},
   "outputs": [
    {
     "name": "stdout",
     "output_type": "stream",
     "text": [
      "Requirement already satisfied: python-dotenv in .\\.venv\\lib\\site-packages (1.0.1)\n",
      "Requirement already satisfied: langchain_groq in .\\.venv\\lib\\site-packages (0.3.1)\n",
      "Collecting langchain_ollama\n",
      "  Downloading langchain_ollama-0.3.0-py3-none-any.whl.metadata (1.5 kB)\n",
      "Requirement already satisfied: langchain-core<1.0.0,>=0.3.47 in .\\.venv\\lib\\site-packages (from langchain_groq) (0.3.48)\n",
      "Requirement already satisfied: groq<1,>=0.4.1 in .\\.venv\\lib\\site-packages (from langchain_groq) (0.20.0)\n",
      "Collecting ollama<1,>=0.4.4 (from langchain_ollama)\n",
      "  Downloading ollama-0.4.7-py3-none-any.whl.metadata (4.7 kB)\n",
      "Requirement already satisfied: anyio<5,>=3.5.0 in .\\.venv\\lib\\site-packages (from groq<1,>=0.4.1->langchain_groq) (4.9.0)\n",
      "Requirement already satisfied: distro<2,>=1.7.0 in .\\.venv\\lib\\site-packages (from groq<1,>=0.4.1->langchain_groq) (1.9.0)\n",
      "Requirement already satisfied: httpx<1,>=0.23.0 in .\\.venv\\lib\\site-packages (from groq<1,>=0.4.1->langchain_groq) (0.28.1)\n",
      "Requirement already satisfied: pydantic<3,>=1.9.0 in .\\.venv\\lib\\site-packages (from groq<1,>=0.4.1->langchain_groq) (2.10.6)\n",
      "Requirement already satisfied: sniffio in .\\.venv\\lib\\site-packages (from groq<1,>=0.4.1->langchain_groq) (1.3.1)\n",
      "Requirement already satisfied: typing-extensions<5,>=4.10 in .\\.venv\\lib\\site-packages (from groq<1,>=0.4.1->langchain_groq) (4.12.2)\n",
      "Requirement already satisfied: langsmith<0.4,>=0.1.125 in .\\.venv\\lib\\site-packages (from langchain-core<1.0.0,>=0.3.47->langchain_groq) (0.3.18)\n",
      "Requirement already satisfied: tenacity!=8.4.0,<10.0.0,>=8.1.0 in .\\.venv\\lib\\site-packages (from langchain-core<1.0.0,>=0.3.47->langchain_groq) (9.0.0)\n",
      "Requirement already satisfied: jsonpatch<2.0,>=1.33 in .\\.venv\\lib\\site-packages (from langchain-core<1.0.0,>=0.3.47->langchain_groq) (1.33)\n",
      "Requirement already satisfied: PyYAML>=5.3 in .\\.venv\\lib\\site-packages (from langchain-core<1.0.0,>=0.3.47->langchain_groq) (6.0.2)\n",
      "Requirement already satisfied: packaging<25,>=23.2 in .\\.venv\\lib\\site-packages (from langchain-core<1.0.0,>=0.3.47->langchain_groq) (24.2)\n",
      "Requirement already satisfied: idna>=2.8 in .\\.venv\\lib\\site-packages (from anyio<5,>=3.5.0->groq<1,>=0.4.1->langchain_groq) (3.10)\n",
      "Requirement already satisfied: certifi in .\\.venv\\lib\\site-packages (from httpx<1,>=0.23.0->groq<1,>=0.4.1->langchain_groq) (2025.1.31)\n",
      "Requirement already satisfied: httpcore==1.* in .\\.venv\\lib\\site-packages (from httpx<1,>=0.23.0->groq<1,>=0.4.1->langchain_groq) (1.0.7)\n",
      "Requirement already satisfied: h11<0.15,>=0.13 in .\\.venv\\lib\\site-packages (from httpcore==1.*->httpx<1,>=0.23.0->groq<1,>=0.4.1->langchain_groq) (0.14.0)\n",
      "Requirement already satisfied: jsonpointer>=1.9 in .\\.venv\\lib\\site-packages (from jsonpatch<2.0,>=1.33->langchain-core<1.0.0,>=0.3.47->langchain_groq) (3.0.0)\n",
      "Requirement already satisfied: orjson<4.0.0,>=3.9.14 in .\\.venv\\lib\\site-packages (from langsmith<0.4,>=0.1.125->langchain-core<1.0.0,>=0.3.47->langchain_groq) (3.10.16)\n",
      "Requirement already satisfied: requests<3,>=2 in .\\.venv\\lib\\site-packages (from langsmith<0.4,>=0.1.125->langchain-core<1.0.0,>=0.3.47->langchain_groq) (2.32.3)\n",
      "Requirement already satisfied: requests-toolbelt<2.0.0,>=1.0.0 in .\\.venv\\lib\\site-packages (from langsmith<0.4,>=0.1.125->langchain-core<1.0.0,>=0.3.47->langchain_groq) (1.0.0)\n",
      "Requirement already satisfied: zstandard<0.24.0,>=0.23.0 in .\\.venv\\lib\\site-packages (from langsmith<0.4,>=0.1.125->langchain-core<1.0.0,>=0.3.47->langchain_groq) (0.23.0)\n",
      "Requirement already satisfied: annotated-types>=0.6.0 in .\\.venv\\lib\\site-packages (from pydantic<3,>=1.9.0->groq<1,>=0.4.1->langchain_groq) (0.7.0)\n",
      "Requirement already satisfied: pydantic-core==2.27.2 in .\\.venv\\lib\\site-packages (from pydantic<3,>=1.9.0->groq<1,>=0.4.1->langchain_groq) (2.27.2)\n",
      "Requirement already satisfied: charset-normalizer<4,>=2 in .\\.venv\\lib\\site-packages (from requests<3,>=2->langsmith<0.4,>=0.1.125->langchain-core<1.0.0,>=0.3.47->langchain_groq) (3.4.1)\n",
      "Requirement already satisfied: urllib3<3,>=1.21.1 in .\\.venv\\lib\\site-packages (from requests<3,>=2->langsmith<0.4,>=0.1.125->langchain-core<1.0.0,>=0.3.47->langchain_groq) (2.3.0)\n",
      "Downloading langchain_ollama-0.3.0-py3-none-any.whl (20 kB)\n",
      "Downloading ollama-0.4.7-py3-none-any.whl (13 kB)\n",
      "Installing collected packages: ollama, langchain_ollama\n",
      "Successfully installed langchain_ollama-0.3.0 ollama-0.4.7\n",
      "Note: you may need to restart the kernel to use updated packages.\n"
     ]
    },
    {
     "name": "stderr",
     "output_type": "stream",
     "text": [
      "\n",
      "[notice] A new release of pip is available: 24.3.1 -> 25.0.1\n",
      "[notice] To update, run: python.exe -m pip install --upgrade pip\n"
     ]
    }
   ],
   "source": [
    "%pip install python-dotenv langchain_groq langchain_ollama\n"
   ]
  },
  {
   "cell_type": "code",
   "execution_count": 1,
   "metadata": {},
   "outputs": [],
   "source": [
    "\n",
    "import getpass\n",
    "import os\n",
    "from dotenv import find_dotenv, load_dotenv\n",
    "from langchain_groq import ChatGroq\n",
    "from langchain_ollama import ChatOllama\n",
    "\n",
    "dotenv_path = find_dotenv()\n",
    "load_dotenv(dotenv_path)\n",
    "groq_api_key = os.getenv(\"groq_api_key\")\n",
    "os.environ[\"groq_api_key\"] = groq_api_key \n",
    "\n",
    "def _set_env(var: str):\n",
    "    if not os.environ.get(var):\n",
    "        os.environ[var] = getpass.getpass(f\"{var}: \")\n",
    "\n",
    "\n",
    "_set_env(\"groq_api_key\")\n",
    "\n",
    "dotenv_path = find_dotenv()\n",
    "load_dotenv(dotenv_path)\n",
    "tavily_api_key = os.getenv(\"tavily_api_key\")\n",
    "os.environ[\"tavily_api_key\"] = tavily_api_key\n",
    "\n",
    "def _set_env(var: str):\n",
    "    if not os.environ.get(var):\n",
    "        os.environ[var] = getpass.getpass(f\"{var}: \")\n",
    "\n",
    "_set_env(\"tavily_api_key\")"
   ]
  },
  {
   "cell_type": "code",
   "execution_count": 2,
   "metadata": {},
   "outputs": [
    {
     "name": "stderr",
     "output_type": "stream",
     "text": [
      "<>:23: SyntaxWarning: invalid escape sequence '\\`'\n",
      "<>:23: SyntaxWarning: invalid escape sequence '\\`'\n",
      "<>:23: SyntaxWarning: invalid escape sequence '\\`'\n",
      "<>:23: SyntaxWarning: invalid escape sequence '\\`'\n",
      "C:\\Users\\paulo\\AppData\\Local\\Temp\\ipykernel_4812\\2391770398.py:23: SyntaxWarning: invalid escape sequence '\\`'\n",
      "  result_str = f\"Successfully executed:\\n\\`\\`\\`python\\n{code}\\n\\`\\`\\`\\nStdout: {result}\"\n",
      "C:\\Users\\paulo\\AppData\\Local\\Temp\\ipykernel_4812\\2391770398.py:23: SyntaxWarning: invalid escape sequence '\\`'\n",
      "  result_str = f\"Successfully executed:\\n\\`\\`\\`python\\n{code}\\n\\`\\`\\`\\nStdout: {result}\"\n"
     ]
    }
   ],
   "source": [
    "from typing import Annotated\n",
    "\n",
    "from langchain_community.tools.tavily_search import TavilySearchResults\n",
    "from langchain_core.tools import tool\n",
    "from langchain_experimental.utilities import PythonREPL\n",
    "\n",
    "tavily_tool = TavilySearchResults(max_results=5)\n",
    "\n",
    "# This executes code locally, which can be unsafe\n",
    "repl = PythonREPL()\n",
    "\n",
    "\n",
    "@tool\n",
    "def python_repl_tool(\n",
    "    code: Annotated[str, \"The python code to execute to generate your chart.\"],\n",
    "):\n",
    "    \"\"\"Use this to execute python code and do math. If you want to see the output of a value,\n",
    "    you should print it out with `print(...)`. This is visible to the user.\"\"\"\n",
    "    try:\n",
    "        result = repl.run(code)\n",
    "    except BaseException as e:\n",
    "        return f\"Failed to execute. Error: {repr(e)}\"\n",
    "    result_str = f\"Successfully executed:\\n\\`\\`\\`python\\n{code}\\n\\`\\`\\`\\nStdout: {result}\"\n",
    "    return result_str"
   ]
  },
  {
   "cell_type": "code",
   "execution_count": 3,
   "metadata": {},
   "outputs": [],
   "source": [
    "from typing import Literal\n",
    "from typing_extensions import TypedDict\n",
    "\n",
    "from langchain_anthropic import ChatAnthropic\n",
    "from langgraph.graph import MessagesState, END\n",
    "from langgraph.types import Command\n",
    "\n",
    "\n",
    "members = [\"researcher\", \"coder\", \"expenses_manager\"]\n",
    "# Our team supervisor is an LLM node. It just picks the next agent to process\n",
    "# and decides when the work is completed\n",
    "options = members + [\"FINISH\"]\n",
    "\n",
    "system_prompt = (\n",
    "    \"You are a supervisor tasked with managing a conversation between the\"\n",
    "    f\" following workers: {members}. Given the following user request,\"\n",
    "    \" respond with the worker to act next. Each worker will perform a\"\n",
    "    \" task and respond with their results and status. When finished,\"\n",
    "    \" respond with FINISH.\"\n",
    ")\n",
    "\n",
    "\n",
    "class Router(TypedDict):\n",
    "    \"\"\"Worker to route to next. If no workers needed, route to FINISH.\"\"\"\n",
    "\n",
    "    next: Literal[*options]\n",
    "\n",
    "\n",
    "#llm = ChatAnthropic(model=\"claude-3-5-sonnet-latest\")\n",
    "\n",
    "#llm=ChatGroq(groq_api_key=groq_api_key,model_name=\"Llama-3.3-70b-Versatile\")\n",
    "\n",
    "MODEL_NAME = \"llama3.2\"\n",
    "llm = ChatOllama(model=MODEL_NAME, temperature=0.5)\n",
    "class State(MessagesState):\n",
    "    next: str\n",
    "\n",
    "    \n",
    "call_count = 0\n",
    "call_count_max = 2\n",
    "def supervisor_node(state: State) -> Command[Literal[*members, \"__end__\"]]:\n",
    "    global call_count  # Now it refers to the global variable\n",
    "    global call_count_max\n",
    "\n",
    "    call_count = call_count +1\n",
    "\n",
    "    messages = [\n",
    "        {\"role\": \"system\", \"content\": system_prompt},\n",
    "    ] + state[\"messages\"]\n",
    "    response = llm.with_structured_output(Router).invoke(messages)\n",
    "    goto = response[\"next\"]\n",
    "    if goto == \"FINISH\":\n",
    "        goto = END\n",
    "\n",
    "    if call_count  == call_count_max:\n",
    "        goto = END\n",
    "\n",
    "    return Command(goto=goto, update={\"next\": goto})"
   ]
  },
  {
   "cell_type": "code",
   "execution_count": 4,
   "metadata": {},
   "outputs": [],
   "source": [
    "from langchain_core.messages import HumanMessage\n",
    "from langgraph.graph import StateGraph, START, END\n",
    "from langgraph.prebuilt import create_react_agent\n",
    "\n",
    "\n",
    "research_agent = create_react_agent(\n",
    "    llm, tools=[tavily_tool], prompt=\"You are a researcher. DO NOT do any math.\"\n",
    ")\n",
    "\n",
    "\n",
    "def research_node(state: State) -> Command[Literal[\"supervisor\"]]:\n",
    "    print(\"state:\",state)\n",
    "    result = research_agent.invoke(state)\n",
    "    return Command(\n",
    "        update={\n",
    "            \"messages\": [\n",
    "                HumanMessage(content=result[\"messages\"][-1].content, name=\"researcher\")\n",
    "            ]\n",
    "        },\n",
    "        goto=\"supervisor\",\n",
    "    )\n",
    "\n",
    "\n",
    "# NOTE: THIS PERFORMS ARBITRARY CODE EXECUTION, WHICH CAN BE UNSAFE WHEN NOT SANDBOXED\n",
    "code_agent = create_react_agent(llm, tools=[python_repl_tool])\n",
    "\n",
    "\n",
    "def code_node(state: State) -> Command[Literal[\"supervisor\"]]:\n",
    "    print(\"state:\",state)\n",
    "    result = code_agent.invoke(state)\n",
    "\n",
    "    return Command(\n",
    "        update={\n",
    "            \"messages\": [\n",
    "                HumanMessage(content=result[\"messages\"][-1].content, name=\"coder\")\n",
    "            ]\n",
    "        },\n",
    "        goto=\"supervisor\",\n",
    "    )\n",
    "\n",
    "\n",
    "import json\n",
    "# Load the JSON file\n",
    "file_path = \"monthly_expenses.json\"  # Replace with the correct path to your file\n",
    "with open(file_path, \"r\") as file:\n",
    "    data = json.load(file)\n",
    "\n",
    "# Convert the JSON data to a string\n",
    "monthly_expenses_json_string = json.dumps(data, indent=4)  # Pretty-printed string\n",
    "\n",
    "expenses_manager_agent = create_react_agent(llm, tools=[],prompt=f\"You are a expenses manager. you data is solely based here{monthly_expenses_json_string}\")\n",
    "\n",
    "def expenses_manager_node(state: State) -> Command[Literal[\"supervisor\"]]:\n",
    "\n",
    "    result = expenses_manager_agent.invoke(state)\n",
    "\n",
    "    return Command(\n",
    "        update={\n",
    "            \"messages\": [\n",
    "                HumanMessage(content=result[\"messages\"][-1].content, name=\"expenses_manager\")\n",
    "            ]\n",
    "         \n",
    "        },\n",
    "        goto=\"supervisor\",\n",
    "    )\n",
    "\n",
    "\n",
    "builder = StateGraph(State)\n",
    "builder.add_edge(START, \"supervisor\")\n",
    "builder.add_node(\"supervisor\", supervisor_node)\n",
    "builder.add_node(\"researcher\", research_node)\n",
    "builder.add_node(\"coder\", code_node)\n",
    "builder.add_node(\"expenses_manager\", expenses_manager_node)\n",
    "graph = builder.compile()"
   ]
  },
  {
   "cell_type": "code",
   "execution_count": 5,
   "metadata": {},
   "outputs": [
    {
     "data": {
      "image/png": "[encoded data removed]",
      "text/plain": [
       "<IPython.core.display.Image object>"
      ]
     },
     "metadata": {},
     "output_type": "display_data"
    }
   ],
   "source": [
    "from IPython.display import display, Image\n",
    "\n",
    "#display(Image(graph.get_graph().draw_mermaid_png()))"
   ]
  },
  {
   "cell_type": "code",
   "execution_count": 80,
   "metadata": {},
   "outputs": [
    {
     "name": "stdout",
     "output_type": "stream",
     "text": [
      "((), {'supervisor': {'next': 'researcher'}})\n",
      "----\n",
      "state: {'messages': [HumanMessage(content=\"What's the square root of 42?\", additional_kwargs={}, response_metadata={}, id='b973e1c3-60aa-4a69-97f4-31af117474ca')], 'next': 'researcher'}\n",
      "(('researcher:14d6fcfc-7d65-4e73-7525-7a3aa39e43d8',), {'agent': {'messages': [AIMessage(content='', additional_kwargs={}, response_metadata={'model': 'llama3.2', 'created_at': '2025-03-31T09:53:41.135202Z', 'done': True, 'done_reason': 'stop', 'total_duration': 511303700, 'load_duration': 58239300, 'prompt_eval_count': 205, 'prompt_eval_duration': 17000000, 'eval_count': 25, 'eval_duration': 430000000, 'message': Message(role='assistant', content='', images=None, tool_calls=None)}, id='run-407302f8-bc2a-4b97-8506-9bba4368824c-0', tool_calls=[{'name': 'tavily_search_results_json', 'args': {'query': 'square root of 42'}, 'id': '7e204dc2-b849-40ca-86f9-2985ce94e11b', 'type': 'tool_call'}], usage_metadata={'input_tokens': 205, 'output_tokens': 25, 'total_tokens': 230})]}})\n",
      "----\n",
      "(('researcher:14d6fcfc-7d65-4e73-7525-7a3aa39e43d8',), {'tools': {'messages': [ToolMessage(content='[{\"title\": \"How to Find the Square Root of 42? - Cuemath\", \"url\": \"https://www.cuemath.com/algebra/square-root-of-42/\", \"content\": \"The square root of a number implies a number whose product with itself gives the initial number.\\\\nThe square root of 42 is 6.4807.\\\\nThe square root of 42 is written as √42 in radical form and it cannot be reduced further.\\\\nThe square root of 42 can be written as (42)1/2 in exponential form. [...] Find two consecutive perfect squares between which the number 42 lies. The two numbers are 36 (62) and 49 (72).\\\\n    So, the whole number part of the square root of 42 will be 6.\\\\nNow, for the decimal part we will use the formula:\\\\n    (Given number -\\xa0Smaller perfect square) / (Greater perfect square -\\xa0smaller perfect square)\\\\n    \\\\\\\\= (42 -\\xa036)/(49 -\\xa036) = 6/13 = 0.461\\\\nSo, the estimated square root of 42 by the approximation method is 6.461. [...] So, we get the square root of √42 = 6.480 by the long division method.\\\\nExplore square roots using illustrations and interactive examples.\\\\n\\\\nSquare root of 44\\\\nSquare root of 72\\\\nSquare root of 22\\\\nSquare root of 85\\\\nSquare root of 64\\\\n\\\\nImportant Notes:\\\\n\\\\nThe number 42 is not a perfect square.\\\\nThe square root of -42 is an imaginary number.\\\\nThe square root of 42 is an irrational number.\\\\n\\\\nSquare Root of 42 Solved Examples\", \"score\": 0.93511593}, {\"title\": \"Flexi answers - What is the square root of 42? | CK-12 Foundation\", \"url\": \"https://www.ck12.org/flexi/cbse-math/perfect-square-roots/what-is-the-square-root-of-42/\", \"content\": \"Flexi Says:The square root of 42 is 6.481.\\\\nThe\\xa0square root of a natural number is that number which, when multiplied by itself, gives @$\\\\\\\\begin{align*}b\\\\\\\\end{align*}@$ as the product. We denote the square root of @$\\\\\\\\begin{align*}b\\\\\\\\end{align*}@$\\xa0 by@$\\\\\\\\begin{align*}\\\\\\\\sqrt{b}.\\\\\\\\end{align*}@$. Thus,\\xa0@$\\\\\\\\begin{align*}\\\\\\\\sqrt{b}=a \\\\\\\\Leftrightarrow b={a}^{2}.\\\\\\\\end{align*}@$ [...] Let us now find the square root of 42. As 42 is not a perfect square, we can only determine the approximate square roots.\\\\nThe square root of 42 is @$$\\\\\\\\begin{align*}\\\\\\\\sqrt{42} = 6.481\\\\\\\\end{align*}@$$\\\\nClick here to learn more about square roots!\\\\n\\\\nWas this helpful?\\\\nContinue this conversation with Flexi\\\\nAsk your own question!\\\\nChat with Flexi on:\", \"score\": 0.9302622}, {\"title\": \"How to Find the Square Root of 42? - BYJU\\'S\", \"url\": \"https://byjus.com/maths/square-root-of-42/\", \"content\": \"What is the Square Root of 42?\\\\nIf a number is multiplied by itself and gives the result as 42, then the number is the square root 42. The square root of 42 is symbolically expressed as √42.\\\\nHence, √42 = √(Number × Number)\\\\nThus, if we multiply the number 6.4807 two times, we get the original value 42.\\\\n(i.e) √42 = √(6.4807× 6.4807)\\\\n√42 = √(6.4807)2\\\\nNow, remove square and square root, we get\\\\n√42 = ± 6.4807 (or)\\\\n√42 = ± 6.481 (Rounded to three decimal places) [...] | Square Root of 42 in Radical Form: √42. |\\\\n| --- |\\\\nSquare Root of 42 by Prime Factorization Method\\\\nTo find the square root of 42 using the prime factorization method, we need to know the prime factors of 42. The prime factors of 42 are 2, 3 and 7 and the prime factorization of 42 is 2× 3×7.\\\\nThus, √42 = √2. √3.√7\\\\nWe know that,\\\\n√2 = 1.414\\\\n√3 = 1.732\\\\n√7 = 2.646\\\\nNow, substitute the values of √2, √3 and √7 in the above equation.\\\\n√42 = 1.414 × 1.732 × 2.646\\\\n√42 = 6.481 (approximately) [...] Hence, the square root of 42 in decimal form is approximately equal to 6.481 (rounded to three decimal places)\\\\nSquare Root of 42 by Long Division Method\\\\nThe procedure to find the square root of 42 using the long division method is given as follows:\", \"score\": 0.9132521}, {\"title\": \"[FREE] Express the square root of 42 in radical form. - brainly.com\", \"url\": \"https://brainly.com/question/24495266\", \"content\": \"Since there is no perfect square factor other than 1 in 42, the square root of 42 in radical form remains √42. The process of simplifying square\", \"score\": 0.91137725}, {\"title\": \"Simplify square root of 42 - Mathway\", \"url\": \"https://www.mathway.com/popular-problems/Algebra/245547\", \"content\": \"Simplify square root of 42. √42 42. The result can be shown in multiple forms. Exact Form: √42 42. Decimal Form: 6.48074069.\", \"score\": 0.8914433}]', name='tavily_search_results_json', id='57ff52cd-f353-4899-84c0-5f6f5f00298a', tool_call_id='7e204dc2-b849-40ca-86f9-2985ce94e11b', artifact={'query': 'square root of 42', 'follow_up_questions': None, 'answer': None, 'images': [], 'results': [{'url': 'https://www.cuemath.com/algebra/square-root-of-42/', 'title': 'How to Find the Square Root of 42? - Cuemath', 'content': 'The square root of a number implies a number whose product with itself gives the initial number.\\nThe square root of 42 is 6.4807.\\nThe square root of 42 is written as √42 in radical form and it cannot be reduced further.\\nThe square root of 42 can be written as (42)1/2 in exponential form. [...] Find two consecutive perfect squares between which the number 42 lies. The two numbers are 36 (62) and 49 (72).\\n    So, the whole number part of the square root of 42 will be 6.\\nNow, for the decimal part we will use the formula:\\n    (Given number -\\xa0Smaller perfect square) / (Greater perfect square -\\xa0smaller perfect square)\\n    \\\\= (42 -\\xa036)/(49 -\\xa036) = 6/13 = 0.461\\nSo, the estimated square root of 42 by the approximation method is 6.461. [...] So, we get the square root of √42 = 6.480 by the long division method.\\nExplore square roots using illustrations and interactive examples.\\n\\nSquare root of 44\\nSquare root of 72\\nSquare root of 22\\nSquare root of 85\\nSquare root of 64\\n\\nImportant Notes:\\n\\nThe number 42 is not a perfect square.\\nThe square root of -42 is an imaginary number.\\nThe square root of 42 is an irrational number.\\n\\nSquare Root of 42 Solved Examples', 'score': 0.93511593, 'raw_content': None}, {'url': 'https://www.ck12.org/flexi/cbse-math/perfect-square-roots/what-is-the-square-root-of-42/', 'title': 'Flexi answers - What is the square root of 42? | CK-12 Foundation', 'content': 'Flexi Says:The square root of 42 is 6.481.\\nThe\\xa0square root of a natural number is that number which, when multiplied by itself, gives @$\\\\begin{align*}b\\\\end{align*}@$ as the product. We denote the square root of @$\\\\begin{align*}b\\\\end{align*}@$\\xa0 by@$\\\\begin{align*}\\\\sqrt{b}.\\\\end{align*}@$. Thus,\\xa0@$\\\\begin{align*}\\\\sqrt{b}=a \\\\Leftrightarrow b={a}^{2}.\\\\end{align*}@$ [...] Let us now find the square root of 42. As 42 is not a perfect square, we can only determine the approximate square roots.\\nThe square root of 42 is @$$\\\\begin{align*}\\\\sqrt{42} = 6.481\\\\end{align*}@$$\\nClick here to learn more about square roots!\\n\\nWas this helpful?\\nContinue this conversation with Flexi\\nAsk your own question!\\nChat with Flexi on:', 'score': 0.9302622, 'raw_content': None}, {'url': 'https://byjus.com/maths/square-root-of-42/', 'title': \"How to Find the Square Root of 42? - BYJU'S\", 'content': 'What is the Square Root of 42?\\nIf a number is multiplied by itself and gives the result as 42, then the number is the square root 42. The square root of 42 is symbolically expressed as √42.\\nHence, √42 = √(Number × Number)\\nThus, if we multiply the number 6.4807 two times, we get the original value 42.\\n(i.e) √42 = √(6.4807× 6.4807)\\n√42 = √(6.4807)2\\nNow, remove square and square root, we get\\n√42 = ± 6.4807 (or)\\n√42 = ± 6.481 (Rounded to three decimal places) [...] | Square Root of 42 in Radical Form: √42. |\\n| --- |\\nSquare Root of 42 by Prime Factorization Method\\nTo find the square root of 42 using the prime factorization method, we need to know the prime factors of 42. The prime factors of 42 are 2, 3 and 7 and the prime factorization of 42 is 2× 3×7.\\nThus, √42 = √2. √3.√7\\nWe know that,\\n√2 = 1.414\\n√3 = 1.732\\n√7 = 2.646\\nNow, substitute the values of √2, √3 and √7 in the above equation.\\n√42 = 1.414 × 1.732 × 2.646\\n√42 = 6.481 (approximately) [...] Hence, the square root of 42 in decimal form is approximately equal to 6.481 (rounded to three decimal places)\\nSquare Root of 42 by Long Division Method\\nThe procedure to find the square root of 42 using the long division method is given as follows:', 'score': 0.9132521, 'raw_content': None}, {'url': 'https://brainly.com/question/24495266', 'title': '[FREE] Express the square root of 42 in radical form. - brainly.com', 'content': 'Since there is no perfect square factor other than 1 in 42, the square root of 42 in radical form remains √42. The process of simplifying square', 'score': 0.91137725, 'raw_content': None}, {'url': 'https://www.mathway.com/popular-problems/Algebra/245547', 'title': 'Simplify square root of 42 - Mathway', 'content': 'Simplify square root of 42. √42 42. The result can be shown in multiple forms. Exact Form: √42 42. Decimal Form: 6.48074069.', 'score': 0.8914433, 'raw_content': None}], 'response_time': 1.68})]}})\n",
      "----\n",
      "(('researcher:14d6fcfc-7d65-4e73-7525-7a3aa39e43d8',), {'agent': {'messages': [AIMessage(content='The square root of 42 is approximately 6.481 (rounded to three decimal places).', additional_kwargs={}, response_metadata={'model': 'llama3.2', 'created_at': '2025-03-31T09:53:45.0709945Z', 'done': True, 'done_reason': 'stop', 'total_duration': 1180611600, 'load_duration': 65478900, 'prompt_eval_count': 1404, 'prompt_eval_duration': 616000000, 'eval_count': 20, 'eval_duration': 475000000, 'message': Message(role='assistant', content='The square root of 42 is approximately 6.481 (rounded to three decimal places).', images=None, tool_calls=None)}, id='run-c80594ad-8576-4683-a8cc-f924bddd1661-0', usage_metadata={'input_tokens': 1404, 'output_tokens': 20, 'total_tokens': 1424})]}})\n",
      "----\n",
      "((), {'researcher': {'messages': [HumanMessage(content='The square root of 42 is approximately 6.481 (rounded to three decimal places).', additional_kwargs={}, response_metadata={}, name='researcher')]}})\n",
      "----\n",
      "((), {'supervisor': {'next': 'coder'}})\n",
      "----\n",
      "state: {'messages': [HumanMessage(content=\"What's the square root of 42?\", additional_kwargs={}, response_metadata={}, id='b973e1c3-60aa-4a69-97f4-31af117474ca'), HumanMessage(content='The square root of 42 is approximately 6.481 (rounded to three decimal places).', additional_kwargs={}, response_metadata={}, name='researcher', id='03737739-98a0-4c7c-9c0f-4c1d7398d533')], 'next': 'coder'}\n",
      "(('coder:4527f434-42fb-1aba-24c3-b938d2b58440',), {'agent': {'messages': [AIMessage(content='', additional_kwargs={}, response_metadata={'model': 'llama3.2', 'created_at': '2025-03-31T09:53:45.9365084Z', 'done': True, 'done_reason': 'stop', 'total_duration': 569530000, 'load_duration': 73481600, 'prompt_eval_count': 224, 'prompt_eval_duration': 29000000, 'eval_count': 27, 'eval_duration': 462000000, 'message': Message(role='assistant', content='', images=None, tool_calls=None)}, id='run-8701612b-20a6-4d06-8ede-3247b4504f34-0', tool_calls=[{'name': 'python_repl_tool', 'args': {'code': 'import math; print(math.sqrt(42))'}, 'id': 'e7e7595f-80d3-42ff-a752-13dbde8b6c2b', 'type': 'tool_call'}], usage_metadata={'input_tokens': 224, 'output_tokens': 27, 'total_tokens': 251})]}})\n",
      "----\n",
      "(('coder:4527f434-42fb-1aba-24c3-b938d2b58440',), {'tools': {'messages': [ToolMessage(content='Successfully executed:\\n\\\\`\\\\`\\\\`python\\nimport math; print(math.sqrt(42))\\n\\\\`\\\\`\\\\`\\nStdout: 6.48074069840786\\n', name='python_repl_tool', id='a9c01fdc-5e45-432f-8717-148d83d52b2c', tool_call_id='e7e7595f-80d3-42ff-a752-13dbde8b6c2b')]}})\n",
      "----\n",
      "(('coder:4527f434-42fb-1aba-24c3-b938d2b58440',), {'agent': {'messages': [AIMessage(content='The square root of 42 is approximately 6.4807.', additional_kwargs={}, response_metadata={'model': 'llama3.2', 'created_at': '2025-03-31T09:53:46.2755092Z', 'done': True, 'done_reason': 'stop', 'total_duration': 333885100, 'load_duration': 67395500, 'prompt_eval_count': 155, 'prompt_eval_duration': 12000000, 'eval_count': 15, 'eval_duration': 247000000, 'message': Message(role='assistant', content='The square root of 42 is approximately 6.4807.', images=None, tool_calls=None)}, id='run-e66fd672-6469-4e8b-8f54-04c00b1276d1-0', usage_metadata={'input_tokens': 155, 'output_tokens': 15, 'total_tokens': 170})]}})\n",
      "----\n",
      "((), {'coder': {'messages': [HumanMessage(content='The square root of 42 is approximately 6.4807.', additional_kwargs={}, response_metadata={}, name='coder')]}})\n",
      "----\n",
      "((), {'supervisor': {'next': 'expenses_manager'}})\n",
      "----\n",
      "(('expenses_manager:bc5a05ce-caa9-9dcf-42c5-03d42256af60',), {'agent': {'messages': [AIMessage(content=\"To calculate this, I'll use the data you provided earlier.\\n\\nUnfortunately, your data doesn't contain any mathematical operations or calculations, including calculating the square root of a number. It appears to be an expenses dataset for two years (2023 and 2024).\\n\\nIf you'd like to know the total expenses for each month in either year, I can help with that!\", additional_kwargs={}, response_metadata={'model': 'llama3.2', 'created_at': '2025-03-31T09:53:48.3573503Z', 'done': True, 'done_reason': 'stop', 'total_duration': 1753583900, 'load_duration': 69899700, 'prompt_eval_count': 865, 'prompt_eval_duration': 276000000, 'eval_count': 76, 'eval_duration': 1367000000, 'message': Message(role='assistant', content='', images=None, tool_calls=None)}, id='run-c1f12ea3-655c-4f98-88f7-f338dd86ae97-0', usage_metadata={'input_tokens': 865, 'output_tokens': 76, 'total_tokens': 941})]}})\n",
      "----\n",
      "((), {'expenses_manager': {'messages': [HumanMessage(content=\"To calculate this, I'll use the data you provided earlier.\\n\\nUnfortunately, your data doesn't contain any mathematical operations or calculations, including calculating the square root of a number. It appears to be an expenses dataset for two years (2023 and 2024).\\n\\nIf you'd like to know the total expenses for each month in either year, I can help with that!\", additional_kwargs={}, response_metadata={}, name='expenses_manager')]}})\n",
      "----\n",
      "((), {'supervisor': {'next': 'researcher'}})\n",
      "----\n",
      "state: {'messages': [HumanMessage(content=\"What's the square root of 42?\", additional_kwargs={}, response_metadata={}, id='b973e1c3-60aa-4a69-97f4-31af117474ca'), HumanMessage(content='The square root of 42 is approximately 6.481 (rounded to three decimal places).', additional_kwargs={}, response_metadata={}, name='researcher', id='03737739-98a0-4c7c-9c0f-4c1d7398d533'), HumanMessage(content='The square root of 42 is approximately 6.4807.', additional_kwargs={}, response_metadata={}, name='coder', id='526177d6-9ec3-4be7-9fa1-2f7bd74a0d77'), HumanMessage(content=\"To calculate this, I'll use the data you provided earlier.\\n\\nUnfortunately, your data doesn't contain any mathematical operations or calculations, including calculating the square root of a number. It appears to be an expenses dataset for two years (2023 and 2024).\\n\\nIf you'd like to know the total expenses for each month in either year, I can help with that!\", additional_kwargs={}, response_metadata={}, name='expenses_manager', id='b33ca23c-4dfe-46d1-a7af-2fb02f021ef8')], 'next': 'researcher'}\n",
      "(('researcher:4d3ed0d0-30e5-ec10-42d8-fc093f85a859',), {'agent': {'messages': [AIMessage(content='', additional_kwargs={}, response_metadata={'model': 'llama3.2', 'created_at': '2025-03-31T09:53:49.1730179Z', 'done': True, 'done_reason': 'stop', 'total_duration': 477829100, 'load_duration': 65481100, 'prompt_eval_count': 313, 'prompt_eval_duration': 33000000, 'eval_count': 17, 'eval_duration': 370000000, 'message': Message(role='assistant', content='', images=None, tool_calls=None)}, id='run-f2ac7e0c-dd6d-4d20-be68-3fc3a10c7f08-0', tool_calls=[{'name': 'math.sqrt', 'args': {'x': '42'}, 'id': 'ec0f1d8e-169c-47fe-9a30-23b2f6babf94', 'type': 'tool_call'}], usage_metadata={'input_tokens': 313, 'output_tokens': 17, 'total_tokens': 330})]}})\n",
      "----\n",
      "(('researcher:4d3ed0d0-30e5-ec10-42d8-fc093f85a859',), {'tools': {'messages': [ToolMessage(content='Error: math.sqrt is not a valid tool, try one of [tavily_search_results_json].', name='math.sqrt', id='fc553f9a-50a0-464f-b43a-a0147fe33f5e', tool_call_id='ec0f1d8e-169c-47fe-9a30-23b2f6babf94', status='error')]}})\n",
      "----\n",
      "(('researcher:4d3ed0d0-30e5-ec10-42d8-fc093f85a859',), {'agent': {'messages': [AIMessage(content=\"I apologize for the mistake earlier. It seems I need to use the `tavily_search_results_json` tool to find the square root of 42.\\n\\nUsing the `tavily_search_results_json` tool, I found that the square root of 42 is approximately 6.481 (rounded to three decimal places).\\n\\nThe square root of 42 is approximately 6.4807.\\n\\nTo calculate this, I'll use the data you provided earlier.\\n\\nUnfortunately, your data doesn't contain any mathematical operations or calculations, including calculating the square root of a number. It appears to be an expenses dataset for two years (2023 and 2024).\\n\\nIf you'd like to know the total expenses for each month in either year, I can help with that!\", additional_kwargs={}, response_metadata={'model': 'llama3.2', 'created_at': '2025-03-31T09:53:51.7365944Z', 'done': True, 'done_reason': 'stop', 'total_duration': 2560460400, 'load_duration': 48828000, 'prompt_eval_count': 231, 'prompt_eval_duration': 28000000, 'eval_count': 156, 'eval_duration': 2468000000, 'message': Message(role='assistant', content=\"I apologize for the mistake earlier. It seems I need to use the `tavily_search_results_json` tool to find the square root of 42.\\n\\nUsing the `tavily_search_results_json` tool, I found that the square root of 42 is approximately 6.481 (rounded to three decimal places).\\n\\nThe square root of 42 is approximately 6.4807.\\n\\nTo calculate this, I'll use the data you provided earlier.\\n\\nUnfortunately, your data doesn't contain any mathematical operations or calculations, including calculating the square root of a number. It appears to be an expenses dataset for two years (2023 and 2024).\\n\\nIf you'd like to know the total expenses for each month in either year, I can help with that!\", images=None, tool_calls=None)}, id='run-9e88f173-13ef-47a4-afd1-ebbbfdcf0c7f-0', usage_metadata={'input_tokens': 231, 'output_tokens': 156, 'total_tokens': 387})]}})\n",
      "----\n",
      "((), {'researcher': {'messages': [HumanMessage(content=\"I apologize for the mistake earlier. It seems I need to use the `tavily_search_results_json` tool to find the square root of 42.\\n\\nUsing the `tavily_search_results_json` tool, I found that the square root of 42 is approximately 6.481 (rounded to three decimal places).\\n\\nThe square root of 42 is approximately 6.4807.\\n\\nTo calculate this, I'll use the data you provided earlier.\\n\\nUnfortunately, your data doesn't contain any mathematical operations or calculations, including calculating the square root of a number. It appears to be an expenses dataset for two years (2023 and 2024).\\n\\nIf you'd like to know the total expenses for each month in either year, I can help with that!\", additional_kwargs={}, response_metadata={}, name='researcher')]}})\n",
      "----\n",
      "((), {'supervisor': {'next': '__end__'}})\n",
      "----\n"
     ]
    }
   ],
   "source": [
    "call_count = 0\n",
    "call_count_max = 5\n",
    "for s in graph.stream(\n",
    "    {\"messages\": [(\"user\", \"What's the square root of 42?\")]}, subgraphs=True\n",
    "):\n",
    "    print(s)\n",
    "    print(\"----\")"
   ]
  },
  {
   "cell_type": "code",
   "execution_count": 7,
   "metadata": {},
   "outputs": [],
   "source": [
    "call_count = 0\n",
    "call_count_max = 5\n",
    "events = graph.stream(\n",
    "    {\"messages\": [(\"user\", \"Give me an insite on the spendings\")]}, subgraphs=True\n",
    ")\n"
   ]
  },
  {
   "cell_type": "code",
   "execution_count": 9,
   "metadata": {},
   "outputs": [],
   "source": [
    "call_count = 0\n",
    "call_count_max = 5\n",
    "events = graph.stream(\n",
    "    {\"messages\": [(\"user\", \"What's the square root of 42?\")]}, subgraphs=True\n",
    ")"
   ]
  },
  {
   "cell_type": "code",
   "execution_count": 79,
   "metadata": {},
   "outputs": [],
   "source": [
    "my_array = []\n",
    "for s in events:\n",
    "    print(s)\n",
    "    my_array.append(s)\n",
    "    print(\"----\")"
   ]
  },
  {
   "cell_type": "code",
   "execution_count": 12,
   "metadata": {},
   "outputs": [
    {
     "data": {
      "text/plain": [
       "((), {'supervisor': {'next': 'researcher'}})"
      ]
     },
     "execution_count": 12,
     "metadata": {},
     "output_type": "execute_result"
    }
   ],
   "source": [
    "my_array[0]\n"
   ]
  },
  {
   "cell_type": "code",
   "execution_count": 20,
   "metadata": {},
   "outputs": [
    {
     "data": {
      "text/plain": [
       "'expenses_manager'"
      ]
     },
     "execution_count": 20,
     "metadata": {},
     "output_type": "execute_result"
    }
   ],
   "source": [
    "my_array[5][1]['supervisor']['next']\n"
   ]
  },
  {
   "cell_type": "code",
   "execution_count": null,
   "metadata": {},
   "outputs": [
    {
     "data": {
      "text/plain": [
       "'The square root of 42 is approximately 6.4807.'"
      ]
     },
     "execution_count": 22,
     "metadata": {},
     "output_type": "execute_result"
    }
   ],
   "source": [
    "my_array[4][1][\"expenses_manager\"][\"messages\"][0].content  "
   ]
  },
  {
   "cell_type": "code",
   "execution_count": 37,
   "metadata": {},
   "outputs": [
    {
     "data": {
      "text/plain": [
       "'The square root of 42 is approximately 6.4807.'"
      ]
     },
     "execution_count": 37,
     "metadata": {},
     "output_type": "execute_result"
    }
   ],
   "source": [
    "my_array[4][1][\"researcher\"][\"messages\"][0].content"
   ]
  },
  {
   "cell_type": "code",
   "execution_count": 78,
   "metadata": {},
   "outputs": [
    {
     "name": "stdout",
     "output_type": "stream",
     "text": [
      "The square root of 42 is approximately 6.4807.\n",
      "-----------\n",
      "AGENT: expenses_manager\n",
      "That's a math question, but I'm an expenses manager, so I don't have access to real-time calculations or mathematical functions like calculating square roots. However, if you'd like, we can discuss your company's expenses and find ways to optimize them! \n",
      "\n",
      "If you'd like to know the expenses for any specific month, feel free to ask!\n",
      "-----------\n",
      "AGENT: coder\n",
      "The square root of 42 is approximately 6.4807.\n",
      "\n",
      "Let's discuss optimizing your company's expenses! Which month would you like to know the expenses for? I can help you analyze and find ways to reduce costs.\n",
      "-----------\n",
      "AGENT: researcher\n"
     ]
    }
   ],
   "source": [
    "agents = []\n",
    "j = -2\n",
    "for i in range(len(my_array) - 1):\n",
    "    try:\n",
    "        if my_array[i][1]['supervisor']['next']:  # Check if 'next' key exists and is not empty\n",
    "            j = j+1\n",
    "           \n",
    "            agent =  my_array[i][1]['supervisor']['next']\n",
    "         \n",
    "            agents.append(agent)\n",
    "\n",
    "            #agent = agent.append(my_array[i][1]['supervisor']['next'])\n",
    "            print(my_array[i - 1][1][agents[j]][\"messages\"][0].content)\n",
    "            print(\"-----------\")\n",
    "\n",
    "            print(\"AGENT:\", agent)\n",
    "            \n",
    "            \n",
    "            \n",
    "    except (KeyError, IndexError, TypeError):\n",
    "        pass\n"
   ]
  },
  {
   "cell_type": "code",
   "execution_count": 65,
   "metadata": {},
   "outputs": [
    {
     "data": {
      "text/plain": [
       "'researcher'"
      ]
     },
     "execution_count": 65,
     "metadata": {},
     "output_type": "execute_result"
    }
   ],
   "source": [
    "agents[j]"
   ]
  },
  {
   "cell_type": "code",
   "execution_count": 58,
   "metadata": {},
   "outputs": [],
   "source": [
    "agents = []\n",
    "agents.append(23)"
   ]
  },
  {
   "cell_type": "code",
   "execution_count": 59,
   "metadata": {},
   "outputs": [
    {
     "data": {
      "text/plain": [
       "23"
      ]
     },
     "execution_count": 59,
     "metadata": {},
     "output_type": "execute_result"
    }
   ],
   "source": [
    "agents[0]"
   ]
  },
  {
   "cell_type": "code",
   "execution_count": 25,
   "metadata": {},
   "outputs": [],
   "source": [
    "def get_valid_member_content(my_array, index, members):\n",
    "    for member in members:\n",
    "        try:\n",
    "            content = my_array[index][1][member][\"messages\"][0].content\n",
    "            return member, content  # Return the valid member and content\n",
    "        except (KeyError, IndexError, AttributeError):\n",
    "            continue  # Try the next member if the key is missing\n",
    "    return None # Return None if no valid member is found\n",
    "\n",
    "valid_member = get_valid_member_content(my_array, 4, members)\n"
   ]
  },
  {
   "cell_type": "code",
   "execution_count": null,
   "metadata": {},
   "outputs": [],
   "source": [
    "for i in range(len(my_array) - 1):\n",
    "    try:\n",
    "        if my_array[i][1]['supervisor']['next']:  # Check if 'next' key exists and is not empty\n",
    "            print(\"AGENT:\", my_array[0][1]['supervisor']['next'])\n",
    "            print(my_array[i + 1][1][\"agent\"][\"messages\"][0].content)\n",
    "            print(\"-----------\")\n",
    "    except (KeyError, IndexError, TypeError):\n",
    "        print(\"\")"
   ]
  },
  {
   "cell_type": "markdown",
   "metadata": {},
   "source": []
  }
 ],
 "metadata": {
  "kernelspec": {
   "display_name": ".venv",
   "language": "python",
   "name": "python3"
  },
  "language_info": {
   "codemirror_mode": {
    "name": "ipython",
    "version": 3
   },
   "file_extension": ".py",
   "mimetype": "text/x-python",
   "name": "python",
   "nbconvert_exporter": "python",
   "pygments_lexer": "ipython3",
   "version": "3.13.2"
  }
 },
 "nbformat": 4,
 "nbformat_minor": 2
}
